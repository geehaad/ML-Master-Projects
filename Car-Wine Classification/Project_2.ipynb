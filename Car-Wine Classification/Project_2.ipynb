{
  "cells": [
    {
      "cell_type": "markdown",
      "metadata": {
        "colab_type": "text",
        "id": "view-in-github"
      },
      "source": [
        "<a href=\"https://colab.research.google.com/github/geehaad/ML-master-projects/blob/main/Project_2.ipynb\" target=\"_parent\"><img src=\"https://colab.research.google.com/assets/colab-badge.svg\" alt=\"Open In Colab\"/></a>"
      ]
    },
    {
      "cell_type": "code",
      "execution_count": null,
      "metadata": {
        "colab": {
          "base_uri": "https://localhost:8080/"
        },
        "id": "Ybd2A5XoWbM6",
        "outputId": "d63a82ca-4d69-41ec-f258-7454522a4d5c"
      },
      "outputs": [
        {
          "name": "stdout",
          "output_type": "stream",
          "text": [
            "Drive already mounted at /content/drive; to attempt to forcibly remount, call drive.mount(\"/content/drive\", force_remount=True).\n"
          ]
        }
      ],
      "source": [
        "from google.colab import drive\n",
        "drive.mount('/content/drive')"
      ]
    },
    {
      "cell_type": "code",
      "execution_count": null,
      "metadata": {
        "id": "xDctbQNy3KTN"
      },
      "outputs": [],
      "source": [
        "# Import Important Libraries \n",
        "from sklearn.model_selection import train_test_split\n",
        "from sklearn.naive_bayes import GaussianNB\n",
        "import pandas as pd\n",
        "import numpy as np\n",
        "\n",
        "from sklearn.metrics import classification_report\n",
        "from sklearn.model_selection import train_test_split\n",
        "import matplotlib.pyplot as plt\n",
        "from sklearn.metrics import confusion_matrix\n",
        "from sklearn.metrics import plot_confusion_matrix\n",
        "import seaborn as sns"
      ]
    },
    {
      "cell_type": "code",
      "execution_count": null,
      "metadata": {
        "id": "XeU-8G2Z8Grd"
      },
      "outputs": [],
      "source": [
        "def make_meshgrid(x, y, h=.02):\n",
        "    x_min, x_max = x.min() - 1, x.max() + 1\n",
        "    y_min, y_max = y.min() - 1, y.max() + 1\n",
        "    xx, yy = np.meshgrid(np.arange(x_min, x_max, h), np.arange(y_min, y_max, h))\n",
        "    return xx, yy\n",
        "\n",
        "def plot_contours(ax, clf, xx, yy, **params):\n",
        "    Z = clf.predict(np.c_[xx.ravel(), yy.ravel()])\n",
        "    Z = Z.reshape(xx.shape)\n",
        "    out = ax.contourf(xx, yy, Z, **params)\n",
        "    return out"
      ]
    },
    {
      "cell_type": "code",
      "execution_count": null,
      "metadata": {
        "id": "uE-4MBIT86CW"
      },
      "outputs": [],
      "source": [
        "#Generate the confusion matrix\n",
        "def conf_matrix(y_testt, y_predd):\n",
        "    cf_matrix_ = confusion_matrix(y_testt, y_predd)\n",
        "    \n",
        "    print(cf_matrix_)\n",
        "\n",
        "    ax = sns.heatmap(cf_matrix_, annot=True,cmap=plt.cm.Blues)\n",
        "\n",
        "    ax.set_title('Confusion Matrix with labels\\n\\n');\n",
        "    ax.set_xlabel('\\nPredicted Values')\n",
        "    ax.set_ylabel('Actual Values ');\n",
        "\n",
        "    ## Ticket labels - List must be in alphabetical order\n",
        "    labels = y_testt.values\n",
        "    sett = set()\n",
        "    sett.update((labels))\n",
        "    ax.xaxis.set_ticklabels(sett)\n",
        "    ax.yaxis.set_ticklabels(sett)\n",
        "\n",
        "    ## Display the visualization of the Confusion Matrix.\n",
        "    plt.show()"
      ]
    },
    {
      "cell_type": "code",
      "execution_count": null,
      "metadata": {
        "id": "q6nvqcad89Z3"
      },
      "outputs": [],
      "source": [
        "# A function to drow the decidion boundries\n",
        "def MakeDecision_Boundary(X_train_or_Test,y_train_or_Test,model, title_):\n",
        "  fig, ax = plt.subplots()\n",
        "  # title for the plots\n",
        "  title = (title_)\n",
        "  # Set-up grid for plotting.\n",
        "  X0, X1 = X_train_or_Test[:, 0], X_train_or_Test[:, 1]\n",
        "  xx, yy = make_meshgrid(X0, X1)\n",
        "\n",
        "  plot_contours(ax, model, xx, yy, cmap=plt.cm.coolwarm, alpha=0.8)\n",
        "  ax.scatter(X0, X1, c=y_train_or_Test, cmap=plt.cm.coolwarm, s=20, edgecolors='k')\n",
        "  ax.set_ylabel('od280/od315_of_diluted_wines')\n",
        "  ax.set_xlabel('proline')\n",
        "  ax.set_xticks(())\n",
        "  ax.set_yticks(())\n",
        "  ax.set_title(title)\n",
        "  ax.legend()\n",
        "  plt.show()"
      ]
    },
    {
      "cell_type": "markdown",
      "metadata": {
        "id": "dqZm1fxF3gj-"
      },
      "source": [
        "## Data Exploratory"
      ]
    },
    {
      "cell_type": "code",
      "execution_count": null,
      "metadata": {
        "colab": {
          "base_uri": "https://localhost:8080/"
        },
        "id": "WaTVSCxt3g-1",
        "outputId": "94da2a1d-23f9-4800-8e3b-6526441479a3"
      },
      "outputs": [
        {
          "data": {
            "text/plain": [
              "{'DESCR': '.. _wine_dataset:\\n\\nWine recognition dataset\\n------------------------\\n\\n**Data Set Characteristics:**\\n\\n    :Number of Instances: 178 (50 in each of three classes)\\n    :Number of Attributes: 13 numeric, predictive attributes and the class\\n    :Attribute Information:\\n \\t\\t- Alcohol\\n \\t\\t- Malic acid\\n \\t\\t- Ash\\n\\t\\t- Alcalinity of ash  \\n \\t\\t- Magnesium\\n\\t\\t- Total phenols\\n \\t\\t- Flavanoids\\n \\t\\t- Nonflavanoid phenols\\n \\t\\t- Proanthocyanins\\n\\t\\t- Color intensity\\n \\t\\t- Hue\\n \\t\\t- OD280/OD315 of diluted wines\\n \\t\\t- Proline\\n\\n    - class:\\n            - class_0\\n            - class_1\\n            - class_2\\n\\t\\t\\n    :Summary Statistics:\\n    \\n    ============================= ==== ===== ======= =====\\n                                   Min   Max   Mean     SD\\n    ============================= ==== ===== ======= =====\\n    Alcohol:                      11.0  14.8    13.0   0.8\\n    Malic Acid:                   0.74  5.80    2.34  1.12\\n    Ash:                          1.36  3.23    2.36  0.27\\n    Alcalinity of Ash:            10.6  30.0    19.5   3.3\\n    Magnesium:                    70.0 162.0    99.7  14.3\\n    Total Phenols:                0.98  3.88    2.29  0.63\\n    Flavanoids:                   0.34  5.08    2.03  1.00\\n    Nonflavanoid Phenols:         0.13  0.66    0.36  0.12\\n    Proanthocyanins:              0.41  3.58    1.59  0.57\\n    Colour Intensity:              1.3  13.0     5.1   2.3\\n    Hue:                          0.48  1.71    0.96  0.23\\n    OD280/OD315 of diluted wines: 1.27  4.00    2.61  0.71\\n    Proline:                       278  1680     746   315\\n    ============================= ==== ===== ======= =====\\n\\n    :Missing Attribute Values: None\\n    :Class Distribution: class_0 (59), class_1 (71), class_2 (48)\\n    :Creator: R.A. Fisher\\n    :Donor: Michael Marshall (MARSHALL%PLU@io.arc.nasa.gov)\\n    :Date: July, 1988\\n\\nThis is a copy of UCI ML Wine recognition datasets.\\nhttps://archive.ics.uci.edu/ml/machine-learning-databases/wine/wine.data\\n\\nThe data is the results of a chemical analysis of wines grown in the same\\nregion in Italy by three different cultivators. There are thirteen different\\nmeasurements taken for different constituents found in the three types of\\nwine.\\n\\nOriginal Owners: \\n\\nForina, M. et al, PARVUS - \\nAn Extendible Package for Data Exploration, Classification and Correlation. \\nInstitute of Pharmaceutical and Food Analysis and Technologies,\\nVia Brigata Salerno, 16147 Genoa, Italy.\\n\\nCitation:\\n\\nLichman, M. (2013). UCI Machine Learning Repository\\n[https://archive.ics.uci.edu/ml]. Irvine, CA: University of California,\\nSchool of Information and Computer Science. \\n\\n.. topic:: References\\n\\n  (1) S. Aeberhard, D. Coomans and O. de Vel, \\n  Comparison of Classifiers in High Dimensional Settings, \\n  Tech. Rep. no. 92-02, (1992), Dept. of Computer Science and Dept. of  \\n  Mathematics and Statistics, James Cook University of North Queensland. \\n  (Also submitted to Technometrics). \\n\\n  The data was used with many others for comparing various \\n  classifiers. The classes are separable, though only RDA \\n  has achieved 100% correct classification. \\n  (RDA : 100%, QDA 99.4%, LDA 98.9%, 1NN 96.1% (z-transformed data)) \\n  (All results using the leave-one-out technique) \\n\\n  (2) S. Aeberhard, D. Coomans and O. de Vel, \\n  \"THE CLASSIFICATION PERFORMANCE OF RDA\" \\n  Tech. Rep. no. 92-01, (1992), Dept. of Computer Science and Dept. of \\n  Mathematics and Statistics, James Cook University of North Queensland. \\n  (Also submitted to Journal of Chemometrics).\\n',\n",
              " 'data': array([[1.423e+01, 1.710e+00, 2.430e+00, ..., 1.040e+00, 3.920e+00,\n",
              "         1.065e+03],\n",
              "        [1.320e+01, 1.780e+00, 2.140e+00, ..., 1.050e+00, 3.400e+00,\n",
              "         1.050e+03],\n",
              "        [1.316e+01, 2.360e+00, 2.670e+00, ..., 1.030e+00, 3.170e+00,\n",
              "         1.185e+03],\n",
              "        ...,\n",
              "        [1.327e+01, 4.280e+00, 2.260e+00, ..., 5.900e-01, 1.560e+00,\n",
              "         8.350e+02],\n",
              "        [1.317e+01, 2.590e+00, 2.370e+00, ..., 6.000e-01, 1.620e+00,\n",
              "         8.400e+02],\n",
              "        [1.413e+01, 4.100e+00, 2.740e+00, ..., 6.100e-01, 1.600e+00,\n",
              "         5.600e+02]]),\n",
              " 'feature_names': ['alcohol',\n",
              "  'malic_acid',\n",
              "  'ash',\n",
              "  'alcalinity_of_ash',\n",
              "  'magnesium',\n",
              "  'total_phenols',\n",
              "  'flavanoids',\n",
              "  'nonflavanoid_phenols',\n",
              "  'proanthocyanins',\n",
              "  'color_intensity',\n",
              "  'hue',\n",
              "  'od280/od315_of_diluted_wines',\n",
              "  'proline'],\n",
              " 'frame': None,\n",
              " 'target': array([0, 0, 0, 0, 0, 0, 0, 0, 0, 0, 0, 0, 0, 0, 0, 0, 0, 0, 0, 0, 0, 0,\n",
              "        0, 0, 0, 0, 0, 0, 0, 0, 0, 0, 0, 0, 0, 0, 0, 0, 0, 0, 0, 0, 0, 0,\n",
              "        0, 0, 0, 0, 0, 0, 0, 0, 0, 0, 0, 0, 0, 0, 0, 1, 1, 1, 1, 1, 1, 1,\n",
              "        1, 1, 1, 1, 1, 1, 1, 1, 1, 1, 1, 1, 1, 1, 1, 1, 1, 1, 1, 1, 1, 1,\n",
              "        1, 1, 1, 1, 1, 1, 1, 1, 1, 1, 1, 1, 1, 1, 1, 1, 1, 1, 1, 1, 1, 1,\n",
              "        1, 1, 1, 1, 1, 1, 1, 1, 1, 1, 1, 1, 1, 1, 1, 1, 1, 1, 1, 1, 2, 2,\n",
              "        2, 2, 2, 2, 2, 2, 2, 2, 2, 2, 2, 2, 2, 2, 2, 2, 2, 2, 2, 2, 2, 2,\n",
              "        2, 2, 2, 2, 2, 2, 2, 2, 2, 2, 2, 2, 2, 2, 2, 2, 2, 2, 2, 2, 2, 2,\n",
              "        2, 2]),\n",
              " 'target_names': array(['class_0', 'class_1', 'class_2'], dtype='<U7')}"
            ]
          },
          "execution_count": 190,
          "metadata": {},
          "output_type": "execute_result"
        }
      ],
      "source": [
        "# Import data \n",
        "from sklearn.datasets import load_wine\n",
        "data = load_wine()\n",
        "data"
      ]
    },
    {
      "cell_type": "code",
      "execution_count": null,
      "metadata": {
        "id": "yMhRLf_73iNe"
      },
      "outputs": [],
      "source": [
        "df = pd.DataFrame(data= np.c_[data['data'], data['target']],\n",
        "                     columns= data['feature_names'] + ['target'])"
      ]
    },
    {
      "cell_type": "code",
      "execution_count": null,
      "metadata": {
        "colab": {
          "base_uri": "https://localhost:8080/",
          "height": 270
        },
        "id": "kohGAGts3q4N",
        "outputId": "545cf992-c87c-40f1-e32d-97969a3b75ed"
      },
      "outputs": [
        {
          "data": {
            "text/html": [
              "\n",
              "  <div id=\"df-f120f810-73e5-4505-9f06-93e34f1f2610\">\n",
              "    <div class=\"colab-df-container\">\n",
              "      <div>\n",
              "<style scoped>\n",
              "    .dataframe tbody tr th:only-of-type {\n",
              "        vertical-align: middle;\n",
              "    }\n",
              "\n",
              "    .dataframe tbody tr th {\n",
              "        vertical-align: top;\n",
              "    }\n",
              "\n",
              "    .dataframe thead th {\n",
              "        text-align: right;\n",
              "    }\n",
              "</style>\n",
              "<table border=\"1\" class=\"dataframe\">\n",
              "  <thead>\n",
              "    <tr style=\"text-align: right;\">\n",
              "      <th></th>\n",
              "      <th>alcohol</th>\n",
              "      <th>malic_acid</th>\n",
              "      <th>ash</th>\n",
              "      <th>alcalinity_of_ash</th>\n",
              "      <th>magnesium</th>\n",
              "      <th>total_phenols</th>\n",
              "      <th>flavanoids</th>\n",
              "      <th>nonflavanoid_phenols</th>\n",
              "      <th>proanthocyanins</th>\n",
              "      <th>color_intensity</th>\n",
              "      <th>hue</th>\n",
              "      <th>od280/od315_of_diluted_wines</th>\n",
              "      <th>proline</th>\n",
              "      <th>target</th>\n",
              "    </tr>\n",
              "  </thead>\n",
              "  <tbody>\n",
              "    <tr>\n",
              "      <th>0</th>\n",
              "      <td>14.23</td>\n",
              "      <td>1.71</td>\n",
              "      <td>2.43</td>\n",
              "      <td>15.6</td>\n",
              "      <td>127.0</td>\n",
              "      <td>2.80</td>\n",
              "      <td>3.06</td>\n",
              "      <td>0.28</td>\n",
              "      <td>2.29</td>\n",
              "      <td>5.64</td>\n",
              "      <td>1.04</td>\n",
              "      <td>3.92</td>\n",
              "      <td>1065.0</td>\n",
              "      <td>0.0</td>\n",
              "    </tr>\n",
              "    <tr>\n",
              "      <th>1</th>\n",
              "      <td>13.20</td>\n",
              "      <td>1.78</td>\n",
              "      <td>2.14</td>\n",
              "      <td>11.2</td>\n",
              "      <td>100.0</td>\n",
              "      <td>2.65</td>\n",
              "      <td>2.76</td>\n",
              "      <td>0.26</td>\n",
              "      <td>1.28</td>\n",
              "      <td>4.38</td>\n",
              "      <td>1.05</td>\n",
              "      <td>3.40</td>\n",
              "      <td>1050.0</td>\n",
              "      <td>0.0</td>\n",
              "    </tr>\n",
              "    <tr>\n",
              "      <th>2</th>\n",
              "      <td>13.16</td>\n",
              "      <td>2.36</td>\n",
              "      <td>2.67</td>\n",
              "      <td>18.6</td>\n",
              "      <td>101.0</td>\n",
              "      <td>2.80</td>\n",
              "      <td>3.24</td>\n",
              "      <td>0.30</td>\n",
              "      <td>2.81</td>\n",
              "      <td>5.68</td>\n",
              "      <td>1.03</td>\n",
              "      <td>3.17</td>\n",
              "      <td>1185.0</td>\n",
              "      <td>0.0</td>\n",
              "    </tr>\n",
              "    <tr>\n",
              "      <th>3</th>\n",
              "      <td>14.37</td>\n",
              "      <td>1.95</td>\n",
              "      <td>2.50</td>\n",
              "      <td>16.8</td>\n",
              "      <td>113.0</td>\n",
              "      <td>3.85</td>\n",
              "      <td>3.49</td>\n",
              "      <td>0.24</td>\n",
              "      <td>2.18</td>\n",
              "      <td>7.80</td>\n",
              "      <td>0.86</td>\n",
              "      <td>3.45</td>\n",
              "      <td>1480.0</td>\n",
              "      <td>0.0</td>\n",
              "    </tr>\n",
              "    <tr>\n",
              "      <th>4</th>\n",
              "      <td>13.24</td>\n",
              "      <td>2.59</td>\n",
              "      <td>2.87</td>\n",
              "      <td>21.0</td>\n",
              "      <td>118.0</td>\n",
              "      <td>2.80</td>\n",
              "      <td>2.69</td>\n",
              "      <td>0.39</td>\n",
              "      <td>1.82</td>\n",
              "      <td>4.32</td>\n",
              "      <td>1.04</td>\n",
              "      <td>2.93</td>\n",
              "      <td>735.0</td>\n",
              "      <td>0.0</td>\n",
              "    </tr>\n",
              "  </tbody>\n",
              "</table>\n",
              "</div>\n",
              "      <button class=\"colab-df-convert\" onclick=\"convertToInteractive('df-f120f810-73e5-4505-9f06-93e34f1f2610')\"\n",
              "              title=\"Convert this dataframe to an interactive table.\"\n",
              "              style=\"display:none;\">\n",
              "        \n",
              "  <svg xmlns=\"http://www.w3.org/2000/svg\" height=\"24px\"viewBox=\"0 0 24 24\"\n",
              "       width=\"24px\">\n",
              "    <path d=\"M0 0h24v24H0V0z\" fill=\"none\"/>\n",
              "    <path d=\"M18.56 5.44l.94 2.06.94-2.06 2.06-.94-2.06-.94-.94-2.06-.94 2.06-2.06.94zm-11 1L8.5 8.5l.94-2.06 2.06-.94-2.06-.94L8.5 2.5l-.94 2.06-2.06.94zm10 10l.94 2.06.94-2.06 2.06-.94-2.06-.94-.94-2.06-.94 2.06-2.06.94z\"/><path d=\"M17.41 7.96l-1.37-1.37c-.4-.4-.92-.59-1.43-.59-.52 0-1.04.2-1.43.59L10.3 9.45l-7.72 7.72c-.78.78-.78 2.05 0 2.83L4 21.41c.39.39.9.59 1.41.59.51 0 1.02-.2 1.41-.59l7.78-7.78 2.81-2.81c.8-.78.8-2.07 0-2.86zM5.41 20L4 18.59l7.72-7.72 1.47 1.35L5.41 20z\"/>\n",
              "  </svg>\n",
              "      </button>\n",
              "      \n",
              "  <style>\n",
              "    .colab-df-container {\n",
              "      display:flex;\n",
              "      flex-wrap:wrap;\n",
              "      gap: 12px;\n",
              "    }\n",
              "\n",
              "    .colab-df-convert {\n",
              "      background-color: #E8F0FE;\n",
              "      border: none;\n",
              "      border-radius: 50%;\n",
              "      cursor: pointer;\n",
              "      display: none;\n",
              "      fill: #1967D2;\n",
              "      height: 32px;\n",
              "      padding: 0 0 0 0;\n",
              "      width: 32px;\n",
              "    }\n",
              "\n",
              "    .colab-df-convert:hover {\n",
              "      background-color: #E2EBFA;\n",
              "      box-shadow: 0px 1px 2px rgba(60, 64, 67, 0.3), 0px 1px 3px 1px rgba(60, 64, 67, 0.15);\n",
              "      fill: #174EA6;\n",
              "    }\n",
              "\n",
              "    [theme=dark] .colab-df-convert {\n",
              "      background-color: #3B4455;\n",
              "      fill: #D2E3FC;\n",
              "    }\n",
              "\n",
              "    [theme=dark] .colab-df-convert:hover {\n",
              "      background-color: #434B5C;\n",
              "      box-shadow: 0px 1px 3px 1px rgba(0, 0, 0, 0.15);\n",
              "      filter: drop-shadow(0px 1px 2px rgba(0, 0, 0, 0.3));\n",
              "      fill: #FFFFFF;\n",
              "    }\n",
              "  </style>\n",
              "\n",
              "      <script>\n",
              "        const buttonEl =\n",
              "          document.querySelector('#df-f120f810-73e5-4505-9f06-93e34f1f2610 button.colab-df-convert');\n",
              "        buttonEl.style.display =\n",
              "          google.colab.kernel.accessAllowed ? 'block' : 'none';\n",
              "\n",
              "        async function convertToInteractive(key) {\n",
              "          const element = document.querySelector('#df-f120f810-73e5-4505-9f06-93e34f1f2610');\n",
              "          const dataTable =\n",
              "            await google.colab.kernel.invokeFunction('convertToInteractive',\n",
              "                                                     [key], {});\n",
              "          if (!dataTable) return;\n",
              "\n",
              "          const docLinkHtml = 'Like what you see? Visit the ' +\n",
              "            '<a target=\"_blank\" href=https://colab.research.google.com/notebooks/data_table.ipynb>data table notebook</a>'\n",
              "            + ' to learn more about interactive tables.';\n",
              "          element.innerHTML = '';\n",
              "          dataTable['output_type'] = 'display_data';\n",
              "          await google.colab.output.renderOutput(dataTable, element);\n",
              "          const docLink = document.createElement('div');\n",
              "          docLink.innerHTML = docLinkHtml;\n",
              "          element.appendChild(docLink);\n",
              "        }\n",
              "      </script>\n",
              "    </div>\n",
              "  </div>\n",
              "  "
            ],
            "text/plain": [
              "   alcohol  malic_acid   ash  alcalinity_of_ash  magnesium  total_phenols  \\\n",
              "0    14.23        1.71  2.43               15.6      127.0           2.80   \n",
              "1    13.20        1.78  2.14               11.2      100.0           2.65   \n",
              "2    13.16        2.36  2.67               18.6      101.0           2.80   \n",
              "3    14.37        1.95  2.50               16.8      113.0           3.85   \n",
              "4    13.24        2.59  2.87               21.0      118.0           2.80   \n",
              "\n",
              "   flavanoids  nonflavanoid_phenols  proanthocyanins  color_intensity   hue  \\\n",
              "0        3.06                  0.28             2.29             5.64  1.04   \n",
              "1        2.76                  0.26             1.28             4.38  1.05   \n",
              "2        3.24                  0.30             2.81             5.68  1.03   \n",
              "3        3.49                  0.24             2.18             7.80  0.86   \n",
              "4        2.69                  0.39             1.82             4.32  1.04   \n",
              "\n",
              "   od280/od315_of_diluted_wines  proline  target  \n",
              "0                          3.92   1065.0     0.0  \n",
              "1                          3.40   1050.0     0.0  \n",
              "2                          3.17   1185.0     0.0  \n",
              "3                          3.45   1480.0     0.0  \n",
              "4                          2.93    735.0     0.0  "
            ]
          },
          "execution_count": 192,
          "metadata": {},
          "output_type": "execute_result"
        }
      ],
      "source": [
        "df.head()"
      ]
    },
    {
      "cell_type": "code",
      "execution_count": null,
      "metadata": {
        "colab": {
          "base_uri": "https://localhost:8080/",
          "height": 270
        },
        "id": "7THqcSSY3s5N",
        "outputId": "8eeda2cb-36be-4b89-d412-971f944dcd8c"
      },
      "outputs": [
        {
          "data": {
            "text/html": [
              "\n",
              "  <div id=\"df-84cafa4d-8efb-4f05-9a2f-0a022dfe58df\">\n",
              "    <div class=\"colab-df-container\">\n",
              "      <div>\n",
              "<style scoped>\n",
              "    .dataframe tbody tr th:only-of-type {\n",
              "        vertical-align: middle;\n",
              "    }\n",
              "\n",
              "    .dataframe tbody tr th {\n",
              "        vertical-align: top;\n",
              "    }\n",
              "\n",
              "    .dataframe thead th {\n",
              "        text-align: right;\n",
              "    }\n",
              "</style>\n",
              "<table border=\"1\" class=\"dataframe\">\n",
              "  <thead>\n",
              "    <tr style=\"text-align: right;\">\n",
              "      <th></th>\n",
              "      <th>alcohol</th>\n",
              "      <th>malic_acid</th>\n",
              "      <th>ash</th>\n",
              "      <th>alcalinity_of_ash</th>\n",
              "      <th>magnesium</th>\n",
              "      <th>total_phenols</th>\n",
              "      <th>flavanoids</th>\n",
              "      <th>nonflavanoid_phenols</th>\n",
              "      <th>proanthocyanins</th>\n",
              "      <th>color_intensity</th>\n",
              "      <th>hue</th>\n",
              "      <th>od280/od315_of_diluted_wines</th>\n",
              "      <th>proline</th>\n",
              "      <th>target</th>\n",
              "    </tr>\n",
              "  </thead>\n",
              "  <tbody>\n",
              "    <tr>\n",
              "      <th>0</th>\n",
              "      <td>14.23</td>\n",
              "      <td>1.71</td>\n",
              "      <td>2.43</td>\n",
              "      <td>15.6</td>\n",
              "      <td>127.0</td>\n",
              "      <td>2.80</td>\n",
              "      <td>3.06</td>\n",
              "      <td>0.28</td>\n",
              "      <td>2.29</td>\n",
              "      <td>5.64</td>\n",
              "      <td>1.04</td>\n",
              "      <td>3.92</td>\n",
              "      <td>1065.0</td>\n",
              "      <td>0.0</td>\n",
              "    </tr>\n",
              "    <tr>\n",
              "      <th>1</th>\n",
              "      <td>13.20</td>\n",
              "      <td>1.78</td>\n",
              "      <td>2.14</td>\n",
              "      <td>11.2</td>\n",
              "      <td>100.0</td>\n",
              "      <td>2.65</td>\n",
              "      <td>2.76</td>\n",
              "      <td>0.26</td>\n",
              "      <td>1.28</td>\n",
              "      <td>4.38</td>\n",
              "      <td>1.05</td>\n",
              "      <td>3.40</td>\n",
              "      <td>1050.0</td>\n",
              "      <td>0.0</td>\n",
              "    </tr>\n",
              "    <tr>\n",
              "      <th>2</th>\n",
              "      <td>13.16</td>\n",
              "      <td>2.36</td>\n",
              "      <td>2.67</td>\n",
              "      <td>18.6</td>\n",
              "      <td>101.0</td>\n",
              "      <td>2.80</td>\n",
              "      <td>3.24</td>\n",
              "      <td>0.30</td>\n",
              "      <td>2.81</td>\n",
              "      <td>5.68</td>\n",
              "      <td>1.03</td>\n",
              "      <td>3.17</td>\n",
              "      <td>1185.0</td>\n",
              "      <td>0.0</td>\n",
              "    </tr>\n",
              "    <tr>\n",
              "      <th>3</th>\n",
              "      <td>14.37</td>\n",
              "      <td>1.95</td>\n",
              "      <td>2.50</td>\n",
              "      <td>16.8</td>\n",
              "      <td>113.0</td>\n",
              "      <td>3.85</td>\n",
              "      <td>3.49</td>\n",
              "      <td>0.24</td>\n",
              "      <td>2.18</td>\n",
              "      <td>7.80</td>\n",
              "      <td>0.86</td>\n",
              "      <td>3.45</td>\n",
              "      <td>1480.0</td>\n",
              "      <td>0.0</td>\n",
              "    </tr>\n",
              "    <tr>\n",
              "      <th>4</th>\n",
              "      <td>13.24</td>\n",
              "      <td>2.59</td>\n",
              "      <td>2.87</td>\n",
              "      <td>21.0</td>\n",
              "      <td>118.0</td>\n",
              "      <td>2.80</td>\n",
              "      <td>2.69</td>\n",
              "      <td>0.39</td>\n",
              "      <td>1.82</td>\n",
              "      <td>4.32</td>\n",
              "      <td>1.04</td>\n",
              "      <td>2.93</td>\n",
              "      <td>735.0</td>\n",
              "      <td>0.0</td>\n",
              "    </tr>\n",
              "  </tbody>\n",
              "</table>\n",
              "</div>\n",
              "      <button class=\"colab-df-convert\" onclick=\"convertToInteractive('df-84cafa4d-8efb-4f05-9a2f-0a022dfe58df')\"\n",
              "              title=\"Convert this dataframe to an interactive table.\"\n",
              "              style=\"display:none;\">\n",
              "        \n",
              "  <svg xmlns=\"http://www.w3.org/2000/svg\" height=\"24px\"viewBox=\"0 0 24 24\"\n",
              "       width=\"24px\">\n",
              "    <path d=\"M0 0h24v24H0V0z\" fill=\"none\"/>\n",
              "    <path d=\"M18.56 5.44l.94 2.06.94-2.06 2.06-.94-2.06-.94-.94-2.06-.94 2.06-2.06.94zm-11 1L8.5 8.5l.94-2.06 2.06-.94-2.06-.94L8.5 2.5l-.94 2.06-2.06.94zm10 10l.94 2.06.94-2.06 2.06-.94-2.06-.94-.94-2.06-.94 2.06-2.06.94z\"/><path d=\"M17.41 7.96l-1.37-1.37c-.4-.4-.92-.59-1.43-.59-.52 0-1.04.2-1.43.59L10.3 9.45l-7.72 7.72c-.78.78-.78 2.05 0 2.83L4 21.41c.39.39.9.59 1.41.59.51 0 1.02-.2 1.41-.59l7.78-7.78 2.81-2.81c.8-.78.8-2.07 0-2.86zM5.41 20L4 18.59l7.72-7.72 1.47 1.35L5.41 20z\"/>\n",
              "  </svg>\n",
              "      </button>\n",
              "      \n",
              "  <style>\n",
              "    .colab-df-container {\n",
              "      display:flex;\n",
              "      flex-wrap:wrap;\n",
              "      gap: 12px;\n",
              "    }\n",
              "\n",
              "    .colab-df-convert {\n",
              "      background-color: #E8F0FE;\n",
              "      border: none;\n",
              "      border-radius: 50%;\n",
              "      cursor: pointer;\n",
              "      display: none;\n",
              "      fill: #1967D2;\n",
              "      height: 32px;\n",
              "      padding: 0 0 0 0;\n",
              "      width: 32px;\n",
              "    }\n",
              "\n",
              "    .colab-df-convert:hover {\n",
              "      background-color: #E2EBFA;\n",
              "      box-shadow: 0px 1px 2px rgba(60, 64, 67, 0.3), 0px 1px 3px 1px rgba(60, 64, 67, 0.15);\n",
              "      fill: #174EA6;\n",
              "    }\n",
              "\n",
              "    [theme=dark] .colab-df-convert {\n",
              "      background-color: #3B4455;\n",
              "      fill: #D2E3FC;\n",
              "    }\n",
              "\n",
              "    [theme=dark] .colab-df-convert:hover {\n",
              "      background-color: #434B5C;\n",
              "      box-shadow: 0px 1px 3px 1px rgba(0, 0, 0, 0.15);\n",
              "      filter: drop-shadow(0px 1px 2px rgba(0, 0, 0, 0.3));\n",
              "      fill: #FFFFFF;\n",
              "    }\n",
              "  </style>\n",
              "\n",
              "      <script>\n",
              "        const buttonEl =\n",
              "          document.querySelector('#df-84cafa4d-8efb-4f05-9a2f-0a022dfe58df button.colab-df-convert');\n",
              "        buttonEl.style.display =\n",
              "          google.colab.kernel.accessAllowed ? 'block' : 'none';\n",
              "\n",
              "        async function convertToInteractive(key) {\n",
              "          const element = document.querySelector('#df-84cafa4d-8efb-4f05-9a2f-0a022dfe58df');\n",
              "          const dataTable =\n",
              "            await google.colab.kernel.invokeFunction('convertToInteractive',\n",
              "                                                     [key], {});\n",
              "          if (!dataTable) return;\n",
              "\n",
              "          const docLinkHtml = 'Like what you see? Visit the ' +\n",
              "            '<a target=\"_blank\" href=https://colab.research.google.com/notebooks/data_table.ipynb>data table notebook</a>'\n",
              "            + ' to learn more about interactive tables.';\n",
              "          element.innerHTML = '';\n",
              "          dataTable['output_type'] = 'display_data';\n",
              "          await google.colab.output.renderOutput(dataTable, element);\n",
              "          const docLink = document.createElement('div');\n",
              "          docLink.innerHTML = docLinkHtml;\n",
              "          element.appendChild(docLink);\n",
              "        }\n",
              "      </script>\n",
              "    </div>\n",
              "  </div>\n",
              "  "
            ],
            "text/plain": [
              "   alcohol  malic_acid   ash  alcalinity_of_ash  magnesium  total_phenols  \\\n",
              "0    14.23        1.71  2.43               15.6      127.0           2.80   \n",
              "1    13.20        1.78  2.14               11.2      100.0           2.65   \n",
              "2    13.16        2.36  2.67               18.6      101.0           2.80   \n",
              "3    14.37        1.95  2.50               16.8      113.0           3.85   \n",
              "4    13.24        2.59  2.87               21.0      118.0           2.80   \n",
              "\n",
              "   flavanoids  nonflavanoid_phenols  proanthocyanins  color_intensity   hue  \\\n",
              "0        3.06                  0.28             2.29             5.64  1.04   \n",
              "1        2.76                  0.26             1.28             4.38  1.05   \n",
              "2        3.24                  0.30             2.81             5.68  1.03   \n",
              "3        3.49                  0.24             2.18             7.80  0.86   \n",
              "4        2.69                  0.39             1.82             4.32  1.04   \n",
              "\n",
              "   od280/od315_of_diluted_wines  proline  target  \n",
              "0                          3.92   1065.0     0.0  \n",
              "1                          3.40   1050.0     0.0  \n",
              "2                          3.17   1185.0     0.0  \n",
              "3                          3.45   1480.0     0.0  \n",
              "4                          2.93    735.0     0.0  "
            ]
          },
          "execution_count": 193,
          "metadata": {},
          "output_type": "execute_result"
        }
      ],
      "source": [
        "df.head()"
      ]
    },
    {
      "cell_type": "code",
      "execution_count": null,
      "metadata": {
        "colab": {
          "base_uri": "https://localhost:8080/",
          "height": 143
        },
        "id": "P455TJALRZtT",
        "outputId": "02a976ba-4760-4f84-b25a-a1e35aa8052b"
      },
      "outputs": [
        {
          "data": {
            "text/html": [
              "\n",
              "  <div id=\"df-1b46adfb-1ccc-4cf5-acdf-5d1b186f4884\">\n",
              "    <div class=\"colab-df-container\">\n",
              "      <div>\n",
              "<style scoped>\n",
              "    .dataframe tbody tr th:only-of-type {\n",
              "        vertical-align: middle;\n",
              "    }\n",
              "\n",
              "    .dataframe tbody tr th {\n",
              "        vertical-align: top;\n",
              "    }\n",
              "\n",
              "    .dataframe thead th {\n",
              "        text-align: right;\n",
              "    }\n",
              "</style>\n",
              "<table border=\"1\" class=\"dataframe\">\n",
              "  <thead>\n",
              "    <tr style=\"text-align: right;\">\n",
              "      <th></th>\n",
              "      <th>target</th>\n",
              "    </tr>\n",
              "  </thead>\n",
              "  <tbody>\n",
              "    <tr>\n",
              "      <th>1.0</th>\n",
              "      <td>71</td>\n",
              "    </tr>\n",
              "    <tr>\n",
              "      <th>0.0</th>\n",
              "      <td>59</td>\n",
              "    </tr>\n",
              "    <tr>\n",
              "      <th>2.0</th>\n",
              "      <td>48</td>\n",
              "    </tr>\n",
              "  </tbody>\n",
              "</table>\n",
              "</div>\n",
              "      <button class=\"colab-df-convert\" onclick=\"convertToInteractive('df-1b46adfb-1ccc-4cf5-acdf-5d1b186f4884')\"\n",
              "              title=\"Convert this dataframe to an interactive table.\"\n",
              "              style=\"display:none;\">\n",
              "        \n",
              "  <svg xmlns=\"http://www.w3.org/2000/svg\" height=\"24px\"viewBox=\"0 0 24 24\"\n",
              "       width=\"24px\">\n",
              "    <path d=\"M0 0h24v24H0V0z\" fill=\"none\"/>\n",
              "    <path d=\"M18.56 5.44l.94 2.06.94-2.06 2.06-.94-2.06-.94-.94-2.06-.94 2.06-2.06.94zm-11 1L8.5 8.5l.94-2.06 2.06-.94-2.06-.94L8.5 2.5l-.94 2.06-2.06.94zm10 10l.94 2.06.94-2.06 2.06-.94-2.06-.94-.94-2.06-.94 2.06-2.06.94z\"/><path d=\"M17.41 7.96l-1.37-1.37c-.4-.4-.92-.59-1.43-.59-.52 0-1.04.2-1.43.59L10.3 9.45l-7.72 7.72c-.78.78-.78 2.05 0 2.83L4 21.41c.39.39.9.59 1.41.59.51 0 1.02-.2 1.41-.59l7.78-7.78 2.81-2.81c.8-.78.8-2.07 0-2.86zM5.41 20L4 18.59l7.72-7.72 1.47 1.35L5.41 20z\"/>\n",
              "  </svg>\n",
              "      </button>\n",
              "      \n",
              "  <style>\n",
              "    .colab-df-container {\n",
              "      display:flex;\n",
              "      flex-wrap:wrap;\n",
              "      gap: 12px;\n",
              "    }\n",
              "\n",
              "    .colab-df-convert {\n",
              "      background-color: #E8F0FE;\n",
              "      border: none;\n",
              "      border-radius: 50%;\n",
              "      cursor: pointer;\n",
              "      display: none;\n",
              "      fill: #1967D2;\n",
              "      height: 32px;\n",
              "      padding: 0 0 0 0;\n",
              "      width: 32px;\n",
              "    }\n",
              "\n",
              "    .colab-df-convert:hover {\n",
              "      background-color: #E2EBFA;\n",
              "      box-shadow: 0px 1px 2px rgba(60, 64, 67, 0.3), 0px 1px 3px 1px rgba(60, 64, 67, 0.15);\n",
              "      fill: #174EA6;\n",
              "    }\n",
              "\n",
              "    [theme=dark] .colab-df-convert {\n",
              "      background-color: #3B4455;\n",
              "      fill: #D2E3FC;\n",
              "    }\n",
              "\n",
              "    [theme=dark] .colab-df-convert:hover {\n",
              "      background-color: #434B5C;\n",
              "      box-shadow: 0px 1px 3px 1px rgba(0, 0, 0, 0.15);\n",
              "      filter: drop-shadow(0px 1px 2px rgba(0, 0, 0, 0.3));\n",
              "      fill: #FFFFFF;\n",
              "    }\n",
              "  </style>\n",
              "\n",
              "      <script>\n",
              "        const buttonEl =\n",
              "          document.querySelector('#df-1b46adfb-1ccc-4cf5-acdf-5d1b186f4884 button.colab-df-convert');\n",
              "        buttonEl.style.display =\n",
              "          google.colab.kernel.accessAllowed ? 'block' : 'none';\n",
              "\n",
              "        async function convertToInteractive(key) {\n",
              "          const element = document.querySelector('#df-1b46adfb-1ccc-4cf5-acdf-5d1b186f4884');\n",
              "          const dataTable =\n",
              "            await google.colab.kernel.invokeFunction('convertToInteractive',\n",
              "                                                     [key], {});\n",
              "          if (!dataTable) return;\n",
              "\n",
              "          const docLinkHtml = 'Like what you see? Visit the ' +\n",
              "            '<a target=\"_blank\" href=https://colab.research.google.com/notebooks/data_table.ipynb>data table notebook</a>'\n",
              "            + ' to learn more about interactive tables.';\n",
              "          element.innerHTML = '';\n",
              "          dataTable['output_type'] = 'display_data';\n",
              "          await google.colab.output.renderOutput(dataTable, element);\n",
              "          const docLink = document.createElement('div');\n",
              "          docLink.innerHTML = docLinkHtml;\n",
              "          element.appendChild(docLink);\n",
              "        }\n",
              "      </script>\n",
              "    </div>\n",
              "  </div>\n",
              "  "
            ],
            "text/plain": [
              "     target\n",
              "1.0      71\n",
              "0.0      59\n",
              "2.0      48"
            ]
          },
          "execution_count": 194,
          "metadata": {},
          "output_type": "execute_result"
        }
      ],
      "source": [
        "dfv = df[\"target\"].value_counts().to_frame()\n",
        "dfv"
      ]
    },
    {
      "cell_type": "markdown",
      "metadata": {
        "id": "JF61MpJZRdDK"
      },
      "source": [
        "We have three classes"
      ]
    },
    {
      "cell_type": "code",
      "execution_count": null,
      "metadata": {
        "colab": {
          "base_uri": "https://localhost:8080/",
          "height": 427
        },
        "id": "6fB1zZwQReLw",
        "outputId": "2d9c598e-18ce-433b-c3c8-e0e8c7620311"
      },
      "outputs": [
        {
          "data": {
            "image/png": "[encoded data removed]",
            "text/plain": [
              "<Figure size 504x504 with 1 Axes>"
            ]
          },
          "metadata": {},
          "output_type": "display_data"
        }
      ],
      "source": [
        "#The percentage of each class\n",
        "##define data\n",
        "data = dfv.target\n",
        "keys = ['Class1','Class0','Class2']\n",
        "\n",
        "#define Seaborn color palette to use\n",
        "colors = sns.color_palette('pastel')[0:3]\n",
        "\n",
        "#Change the graph size\n",
        "sns.set(rc={\"figure.figsize\":(7, 7)}) \n",
        "\n",
        "plt.title(\"The persentage of each class\")\n",
        "#create pie chart\n",
        "plt.pie(data, labels = keys, colors = colors, autopct='%.0f%%')\n",
        "plt.show()"
      ]
    },
    {
      "cell_type": "markdown",
      "metadata": {
        "id": "EyP4sOZl3ve2"
      },
      "source": [
        "## Modeling"
      ]
    },
    {
      "cell_type": "markdown",
      "metadata": {
        "id": "NFHzlCoV3ytH"
      },
      "source": [
        "### split the data into train, test"
      ]
    },
    {
      "cell_type": "code",
      "execution_count": null,
      "metadata": {
        "id": "sqI_xqLw3uYt"
      },
      "outputs": [],
      "source": [
        "X= df.loc[:, df.columns != 'target']\n",
        "y = df['target']"
      ]
    },
    {
      "cell_type": "code",
      "execution_count": null,
      "metadata": {
        "id": "zQeViYQb34BN"
      },
      "outputs": [],
      "source": [
        "X_train, X_test, y_train, y_test = train_test_split(X, y, test_size=0.2, random_state=42)"
      ]
    },
    {
      "cell_type": "code",
      "execution_count": null,
      "metadata": {
        "colab": {
          "base_uri": "https://localhost:8080/"
        },
        "id": "ySp_jagE35Te",
        "outputId": "7d45a83d-d96d-4333-c971-2c8ab3189521"
      },
      "outputs": [
        {
          "data": {
            "text/plain": [
              "(36,)"
            ]
          },
          "execution_count": 198,
          "metadata": {},
          "output_type": "execute_result"
        }
      ],
      "source": [
        "gnb = GaussianNB()\n",
        "y_pred = gnb.fit(X_train, y_train).predict(X_test)\n",
        "y_pred.shape"
      ]
    },
    {
      "cell_type": "markdown",
      "metadata": {
        "id": "o0jairfv4U12"
      },
      "source": [
        "### Model Evaluation"
      ]
    },
    {
      "cell_type": "markdown",
      "metadata": {
        "id": "BXTrMbTd6gf_"
      },
      "source": [
        "#### Classification_report for training data\n"
      ]
    },
    {
      "cell_type": "code",
      "execution_count": null,
      "metadata": {
        "colab": {
          "base_uri": "https://localhost:8080/"
        },
        "id": "KLzL7JrN4CO1",
        "outputId": "68a47339-5625-4a0b-a86f-07bf995f7299"
      },
      "outputs": [
        {
          "name": "stdout",
          "output_type": "stream",
          "text": [
            "              precision    recall  f1-score   support\n",
            "\n",
            "         0.0       0.96      1.00      0.98        43\n",
            "         1.0       0.96      0.96      0.96        57\n",
            "         2.0       1.00      0.95      0.98        42\n",
            "\n",
            "    accuracy                           0.97       142\n",
            "   macro avg       0.97      0.97      0.97       142\n",
            "weighted avg       0.97      0.97      0.97       142\n",
            "\n"
          ]
        }
      ],
      "source": [
        "print(classification_report(gnb.predict(X_train), y_train))"
      ]
    },
    {
      "cell_type": "markdown",
      "metadata": {
        "id": "RFF4UhXQ6kBJ"
      },
      "source": [
        "#### Classification_report for testing data\n"
      ]
    },
    {
      "cell_type": "code",
      "execution_count": null,
      "metadata": {
        "colab": {
          "base_uri": "https://localhost:8080/"
        },
        "id": "p4gFyAYF4DL9",
        "outputId": "e1a1294d-5f46-4495-df92-429aeb12f7c1"
      },
      "outputs": [
        {
          "name": "stdout",
          "output_type": "stream",
          "text": [
            "              precision    recall  f1-score   support\n",
            "\n",
            "         0.0       1.00      1.00      1.00        14\n",
            "         1.0       1.00      1.00      1.00        14\n",
            "         2.0       1.00      1.00      1.00         8\n",
            "\n",
            "    accuracy                           1.00        36\n",
            "   macro avg       1.00      1.00      1.00        36\n",
            "weighted avg       1.00      1.00      1.00        36\n",
            "\n"
          ]
        }
      ],
      "source": [
        "print(classification_report(gnb.predict(X_test), y_test))"
      ]
    },
    {
      "cell_type": "markdown",
      "metadata": {
        "id": "ONJoZ1el5QnG"
      },
      "source": [
        "### Decison boundries"
      ]
    },
    {
      "cell_type": "markdown",
      "metadata": {
        "id": "4LFwE6065T42"
      },
      "source": [
        "For simplicity, we only consider\n",
        "\n",
        "*   2 features when plotting the decision boundary in this question.\n",
        "*   We chose the two features using the correlation matrix.\n",
        "\n",
        "\n",
        "\n"
      ]
    },
    {
      "cell_type": "code",
      "execution_count": null,
      "metadata": {
        "id": "WJn8BHQO5v9O"
      },
      "outputs": [],
      "source": [
        "train = X_train \n",
        "train['target'] = y_train\n",
        "test = X_test \n",
        "test['target'] = y_test"
      ]
    },
    {
      "cell_type": "code",
      "execution_count": null,
      "metadata": {
        "colab": {
          "base_uri": "https://localhost:8080/",
          "height": 641
        },
        "id": "Lyv754d95NuO",
        "outputId": "a2ba7906-7f8a-4849-c524-537f0a57224e"
      },
      "outputs": [
        {
          "data": {
            "text/plain": [
              "Text(38.593749999999986, 0.5, 'Fetuers axis_y')"
            ]
          },
          "execution_count": 202,
          "metadata": {},
          "output_type": "execute_result"
        },
        {
          "data": {
            "image/png": "[encoded data removed]",
            "text/plain": [
              "<Figure size 504x504 with 2 Axes>"
            ]
          },
          "metadata": {},
          "output_type": "display_data"
        }
      ],
      "source": [
        "corr=train.corr()\n",
        "sns.heatmap(corr, xticklabels=corr.columns.values, yticklabels=corr.columns.values)\n",
        "\n",
        "#Change the graph size\n",
        "sns.set(rc={\"figure.figsize\":(6, 6)})\n",
        "plt.title(\"Confusion matrix for traing data\")\n",
        "plt.xlabel(\"Fetuers axis_X\")\n",
        "plt.ylabel(\"Fetuers axis_y\")\n",
        "\n",
        "\n",
        "\n"
      ]
    },
    {
      "cell_type": "markdown",
      "metadata": {
        "id": "iEP5auAF6z0u"
      },
      "source": [
        "### We are going to choose the two features: proline,  od280/od315_of_diluted_wines"
      ]
    },
    {
      "cell_type": "markdown",
      "metadata": {
        "id": "xTMi3ihx57UM"
      },
      "source": [
        "### Split the dataset\n"
      ]
    },
    {
      "cell_type": "code",
      "execution_count": null,
      "metadata": {
        "id": "ohjYneQx52Pm"
      },
      "outputs": [],
      "source": [
        "X_train_, y_train_ = train[['proline',  'od280/od315_of_diluted_wines']], train['target']\n",
        "X_test_, y_test_ = test[['proline',  'od280/od315_of_diluted_wines']], test['target']"
      ]
    },
    {
      "cell_type": "markdown",
      "metadata": {
        "id": "0XlLVOpb59zj"
      },
      "source": [
        "### Train and test using GaussianNB with only the two features \n"
      ]
    },
    {
      "cell_type": "code",
      "execution_count": null,
      "metadata": {
        "colab": {
          "base_uri": "https://localhost:8080/"
        },
        "id": "XIUNUhJc7Bs2",
        "outputId": "f61c2e4a-7308-4e82-eead-2002b150b60d"
      },
      "outputs": [
        {
          "data": {
            "text/plain": [
              "array([0., 0., 1., 0., 1., 0., 1., 2., 1., 1., 0., 2., 0., 1., 0., 1., 1.,\n",
              "       1., 0., 1., 0., 1., 2., 2., 2., 2., 1., 1., 1., 0., 0., 1., 2., 0.,\n",
              "       0., 0.])"
            ]
          },
          "execution_count": 204,
          "metadata": {},
          "output_type": "execute_result"
        }
      ],
      "source": [
        "gnbb = GaussianNB()\n",
        "g = gnbb.fit(X_train_.values, y_train_.values)\n",
        "y_pred_ = gnbb.predict(X_test_.values)\n",
        "y_pred_"
      ]
    },
    {
      "cell_type": "markdown",
      "metadata": {
        "id": "zI6bU9Tf6Btd"
      },
      "source": [
        "### Classification_report for training data with only the two features \n"
      ]
    },
    {
      "cell_type": "code",
      "execution_count": null,
      "metadata": {
        "colab": {
          "base_uri": "https://localhost:8080/"
        },
        "id": "U89KrNby-a_n",
        "outputId": "a9479ee0-12c0-4e81-d1f1-2af4441709fc"
      },
      "outputs": [
        {
          "name": "stdout",
          "output_type": "stream",
          "text": [
            "              precision    recall  f1-score   support\n",
            "\n",
            "         0.0       0.96      0.93      0.95        46\n",
            "         1.0       0.86      0.91      0.88        54\n",
            "         2.0       0.93      0.88      0.90        42\n",
            "\n",
            "    accuracy                           0.91       142\n",
            "   macro avg       0.91      0.91      0.91       142\n",
            "weighted avg       0.91      0.91      0.91       142\n",
            "\n"
          ]
        },
        {
          "name": "stderr",
          "output_type": "stream",
          "text": [
            "/usr/local/lib/python3.7/dist-packages/sklearn/base.py:444: UserWarning: X has feature names, but GaussianNB was fitted without feature names\n",
            "  f\"X has feature names, but {self.__class__.__name__} was fitted without\"\n"
          ]
        }
      ],
      "source": [
        "print(classification_report(gnbb.predict(X_train_), y_train_))"
      ]
    },
    {
      "cell_type": "markdown",
      "metadata": {
        "id": "bvs-f6Ewyuzc"
      },
      "source": [
        "### Classification_report for testing data with only the two features \n"
      ]
    },
    {
      "cell_type": "code",
      "execution_count": null,
      "metadata": {
        "colab": {
          "base_uri": "https://localhost:8080/"
        },
        "id": "wrpvr6HN-jVn",
        "outputId": "012aab4a-f5af-496a-b20a-3e066c22106b"
      },
      "outputs": [
        {
          "name": "stdout",
          "output_type": "stream",
          "text": [
            "              precision    recall  f1-score   support\n",
            "\n",
            "         0.0       1.00      1.00      1.00        14\n",
            "         1.0       0.93      0.87      0.90        15\n",
            "         2.0       0.75      0.86      0.80         7\n",
            "\n",
            "    accuracy                           0.92        36\n",
            "   macro avg       0.89      0.91      0.90        36\n",
            "weighted avg       0.92      0.92      0.92        36\n",
            "\n"
          ]
        },
        {
          "name": "stderr",
          "output_type": "stream",
          "text": [
            "/usr/local/lib/python3.7/dist-packages/sklearn/base.py:444: UserWarning: X has feature names, but GaussianNB was fitted without feature names\n",
            "  f\"X has feature names, but {self.__class__.__name__} was fitted without\"\n"
          ]
        }
      ],
      "source": [
        "print(classification_report(gnbb.predict(X_test_), y_test_))"
      ]
    },
    {
      "cell_type": "markdown",
      "metadata": {
        "id": "huR3ErkwyJQl"
      },
      "source": [
        "### Decision Boundry using trainig set"
      ]
    },
    {
      "cell_type": "code",
      "execution_count": null,
      "metadata": {
        "colab": {
          "base_uri": "https://localhost:8080/",
          "height": 407
        },
        "id": "-hjbnisC7tFX",
        "outputId": "3a96aeb1-1372-4d57-f6a7-464efd7e3fd9"
      },
      "outputs": [
        {
          "name": "stderr",
          "output_type": "stream",
          "text": [
            "No handles with labels found to put in legend.\n"
          ]
        },
        {
          "data": {
            "image/png": "[encoded data removed]",
            "text/plain": [
              "<Figure size 432x432 with 1 Axes>"
            ]
          },
          "metadata": {},
          "output_type": "display_data"
        }
      ],
      "source": [
        "MakeDecision_Boundary(X_train_.values,y_train_.values,gnbb,\"Decision Boundry of GaussianNB Training Data\")"
      ]
    },
    {
      "cell_type": "markdown",
      "metadata": {
        "id": "q_b5Lfa9yS_d"
      },
      "source": [
        "### Decision Boundry using testing set"
      ]
    },
    {
      "cell_type": "code",
      "execution_count": null,
      "metadata": {
        "colab": {
          "base_uri": "https://localhost:8080/",
          "height": 407
        },
        "id": "O1vb_HIU7vBe",
        "outputId": "9ec0337a-52f9-4446-85b0-326ec13557cb"
      },
      "outputs": [
        {
          "name": "stderr",
          "output_type": "stream",
          "text": [
            "No handles with labels found to put in legend.\n"
          ]
        },
        {
          "data": {
            "image/png": "[encoded data removed]",
            "text/plain": [
              "<Figure size 432x432 with 1 Axes>"
            ]
          },
          "metadata": {},
          "output_type": "display_data"
        }
      ],
      "source": [
        "MakeDecision_Boundary(X_test_.values,y_test_.values,gnbb,\"Decision Boundry of GaussianNB Testing Data\")"
      ]
    },
    {
      "cell_type": "markdown",
      "metadata": {
        "id": "vKC7myyGeRMP"
      },
      "source": [
        "#Part (3) KNN"
      ]
    },
    {
      "cell_type": "markdown",
      "metadata": {
        "id": "oNZcRA4TfdnW"
      },
      "source": [
        "From the Dataset description in Kaggle, we added columns names . "
      ]
    },
    {
      "cell_type": "code",
      "execution_count": null,
      "metadata": {
        "id": "nUFdHM-h-Miv"
      },
      "outputs": [],
      "source": [
        "col_names=['buying price', 'maintenance cost', 'number of doors', 'number of persons', 'lug_boot', 'safety', 'decision']\n",
        "df_data = pd.read_csv('/content/drive/MyDrive/Assignment2_KNN/car_evaluation.csv',names=col_names)\n"
      ]
    },
    {
      "cell_type": "code",
      "execution_count": null,
      "metadata": {
        "colab": {
          "base_uri": "https://localhost:8080/",
          "height": 424
        },
        "id": "Zi3Elr08e3gH",
        "outputId": "a746bc33-97d5-4a68-93ad-a212e79b28d4"
      },
      "outputs": [
        {
          "data": {
            "text/html": [
              "\n",
              "  <div id=\"df-f3a65f91-9a6a-43bf-a31c-df6ee88b04c8\">\n",
              "    <div class=\"colab-df-container\">\n",
              "      <div>\n",
              "<style scoped>\n",
              "    .dataframe tbody tr th:only-of-type {\n",
              "        vertical-align: middle;\n",
              "    }\n",
              "\n",
              "    .dataframe tbody tr th {\n",
              "        vertical-align: top;\n",
              "    }\n",
              "\n",
              "    .dataframe thead th {\n",
              "        text-align: right;\n",
              "    }\n",
              "</style>\n",
              "<table border=\"1\" class=\"dataframe\">\n",
              "  <thead>\n",
              "    <tr style=\"text-align: right;\">\n",
              "      <th></th>\n",
              "      <th>buying price</th>\n",
              "      <th>maintenance cost</th>\n",
              "      <th>number of doors</th>\n",
              "      <th>number of persons</th>\n",
              "      <th>lug_boot</th>\n",
              "      <th>safety</th>\n",
              "      <th>decision</th>\n",
              "    </tr>\n",
              "  </thead>\n",
              "  <tbody>\n",
              "    <tr>\n",
              "      <th>0</th>\n",
              "      <td>vhigh</td>\n",
              "      <td>vhigh</td>\n",
              "      <td>2</td>\n",
              "      <td>2</td>\n",
              "      <td>small</td>\n",
              "      <td>low</td>\n",
              "      <td>unacc</td>\n",
              "    </tr>\n",
              "    <tr>\n",
              "      <th>1</th>\n",
              "      <td>vhigh</td>\n",
              "      <td>vhigh</td>\n",
              "      <td>2</td>\n",
              "      <td>2</td>\n",
              "      <td>small</td>\n",
              "      <td>med</td>\n",
              "      <td>unacc</td>\n",
              "    </tr>\n",
              "    <tr>\n",
              "      <th>2</th>\n",
              "      <td>vhigh</td>\n",
              "      <td>vhigh</td>\n",
              "      <td>2</td>\n",
              "      <td>2</td>\n",
              "      <td>small</td>\n",
              "      <td>high</td>\n",
              "      <td>unacc</td>\n",
              "    </tr>\n",
              "    <tr>\n",
              "      <th>3</th>\n",
              "      <td>vhigh</td>\n",
              "      <td>vhigh</td>\n",
              "      <td>2</td>\n",
              "      <td>2</td>\n",
              "      <td>med</td>\n",
              "      <td>low</td>\n",
              "      <td>unacc</td>\n",
              "    </tr>\n",
              "    <tr>\n",
              "      <th>4</th>\n",
              "      <td>vhigh</td>\n",
              "      <td>vhigh</td>\n",
              "      <td>2</td>\n",
              "      <td>2</td>\n",
              "      <td>med</td>\n",
              "      <td>med</td>\n",
              "      <td>unacc</td>\n",
              "    </tr>\n",
              "    <tr>\n",
              "      <th>...</th>\n",
              "      <td>...</td>\n",
              "      <td>...</td>\n",
              "      <td>...</td>\n",
              "      <td>...</td>\n",
              "      <td>...</td>\n",
              "      <td>...</td>\n",
              "      <td>...</td>\n",
              "    </tr>\n",
              "    <tr>\n",
              "      <th>1723</th>\n",
              "      <td>low</td>\n",
              "      <td>low</td>\n",
              "      <td>5more</td>\n",
              "      <td>more</td>\n",
              "      <td>med</td>\n",
              "      <td>med</td>\n",
              "      <td>good</td>\n",
              "    </tr>\n",
              "    <tr>\n",
              "      <th>1724</th>\n",
              "      <td>low</td>\n",
              "      <td>low</td>\n",
              "      <td>5more</td>\n",
              "      <td>more</td>\n",
              "      <td>med</td>\n",
              "      <td>high</td>\n",
              "      <td>vgood</td>\n",
              "    </tr>\n",
              "    <tr>\n",
              "      <th>1725</th>\n",
              "      <td>low</td>\n",
              "      <td>low</td>\n",
              "      <td>5more</td>\n",
              "      <td>more</td>\n",
              "      <td>big</td>\n",
              "      <td>low</td>\n",
              "      <td>unacc</td>\n",
              "    </tr>\n",
              "    <tr>\n",
              "      <th>1726</th>\n",
              "      <td>low</td>\n",
              "      <td>low</td>\n",
              "      <td>5more</td>\n",
              "      <td>more</td>\n",
              "      <td>big</td>\n",
              "      <td>med</td>\n",
              "      <td>good</td>\n",
              "    </tr>\n",
              "    <tr>\n",
              "      <th>1727</th>\n",
              "      <td>low</td>\n",
              "      <td>low</td>\n",
              "      <td>5more</td>\n",
              "      <td>more</td>\n",
              "      <td>big</td>\n",
              "      <td>high</td>\n",
              "      <td>vgood</td>\n",
              "    </tr>\n",
              "  </tbody>\n",
              "</table>\n",
              "<p>1728 rows × 7 columns</p>\n",
              "</div>\n",
              "      <button class=\"colab-df-convert\" onclick=\"convertToInteractive('df-f3a65f91-9a6a-43bf-a31c-df6ee88b04c8')\"\n",
              "              title=\"Convert this dataframe to an interactive table.\"\n",
              "              style=\"display:none;\">\n",
              "        \n",
              "  <svg xmlns=\"http://www.w3.org/2000/svg\" height=\"24px\"viewBox=\"0 0 24 24\"\n",
              "       width=\"24px\">\n",
              "    <path d=\"M0 0h24v24H0V0z\" fill=\"none\"/>\n",
              "    <path d=\"M18.56 5.44l.94 2.06.94-2.06 2.06-.94-2.06-.94-.94-2.06-.94 2.06-2.06.94zm-11 1L8.5 8.5l.94-2.06 2.06-.94-2.06-.94L8.5 2.5l-.94 2.06-2.06.94zm10 10l.94 2.06.94-2.06 2.06-.94-2.06-.94-.94-2.06-.94 2.06-2.06.94z\"/><path d=\"M17.41 7.96l-1.37-1.37c-.4-.4-.92-.59-1.43-.59-.52 0-1.04.2-1.43.59L10.3 9.45l-7.72 7.72c-.78.78-.78 2.05 0 2.83L4 21.41c.39.39.9.59 1.41.59.51 0 1.02-.2 1.41-.59l7.78-7.78 2.81-2.81c.8-.78.8-2.07 0-2.86zM5.41 20L4 18.59l7.72-7.72 1.47 1.35L5.41 20z\"/>\n",
              "  </svg>\n",
              "      </button>\n",
              "      \n",
              "  <style>\n",
              "    .colab-df-container {\n",
              "      display:flex;\n",
              "      flex-wrap:wrap;\n",
              "      gap: 12px;\n",
              "    }\n",
              "\n",
              "    .colab-df-convert {\n",
              "      background-color: #E8F0FE;\n",
              "      border: none;\n",
              "      border-radius: 50%;\n",
              "      cursor: pointer;\n",
              "      display: none;\n",
              "      fill: #1967D2;\n",
              "      height: 32px;\n",
              "      padding: 0 0 0 0;\n",
              "      width: 32px;\n",
              "    }\n",
              "\n",
              "    .colab-df-convert:hover {\n",
              "      background-color: #E2EBFA;\n",
              "      box-shadow: 0px 1px 2px rgba(60, 64, 67, 0.3), 0px 1px 3px 1px rgba(60, 64, 67, 0.15);\n",
              "      fill: #174EA6;\n",
              "    }\n",
              "\n",
              "    [theme=dark] .colab-df-convert {\n",
              "      background-color: #3B4455;\n",
              "      fill: #D2E3FC;\n",
              "    }\n",
              "\n",
              "    [theme=dark] .colab-df-convert:hover {\n",
              "      background-color: #434B5C;\n",
              "      box-shadow: 0px 1px 3px 1px rgba(0, 0, 0, 0.15);\n",
              "      filter: drop-shadow(0px 1px 2px rgba(0, 0, 0, 0.3));\n",
              "      fill: #FFFFFF;\n",
              "    }\n",
              "  </style>\n",
              "\n",
              "      <script>\n",
              "        const buttonEl =\n",
              "          document.querySelector('#df-f3a65f91-9a6a-43bf-a31c-df6ee88b04c8 button.colab-df-convert');\n",
              "        buttonEl.style.display =\n",
              "          google.colab.kernel.accessAllowed ? 'block' : 'none';\n",
              "\n",
              "        async function convertToInteractive(key) {\n",
              "          const element = document.querySelector('#df-f3a65f91-9a6a-43bf-a31c-df6ee88b04c8');\n",
              "          const dataTable =\n",
              "            await google.colab.kernel.invokeFunction('convertToInteractive',\n",
              "                                                     [key], {});\n",
              "          if (!dataTable) return;\n",
              "\n",
              "          const docLinkHtml = 'Like what you see? Visit the ' +\n",
              "            '<a target=\"_blank\" href=https://colab.research.google.com/notebooks/data_table.ipynb>data table notebook</a>'\n",
              "            + ' to learn more about interactive tables.';\n",
              "          element.innerHTML = '';\n",
              "          dataTable['output_type'] = 'display_data';\n",
              "          await google.colab.output.renderOutput(dataTable, element);\n",
              "          const docLink = document.createElement('div');\n",
              "          docLink.innerHTML = docLinkHtml;\n",
              "          element.appendChild(docLink);\n",
              "        }\n",
              "      </script>\n",
              "    </div>\n",
              "  </div>\n",
              "  "
            ],
            "text/plain": [
              "     buying price maintenance cost number of doors number of persons lug_boot  \\\n",
              "0           vhigh            vhigh               2                 2    small   \n",
              "1           vhigh            vhigh               2                 2    small   \n",
              "2           vhigh            vhigh               2                 2    small   \n",
              "3           vhigh            vhigh               2                 2      med   \n",
              "4           vhigh            vhigh               2                 2      med   \n",
              "...           ...              ...             ...               ...      ...   \n",
              "1723          low              low           5more              more      med   \n",
              "1724          low              low           5more              more      med   \n",
              "1725          low              low           5more              more      big   \n",
              "1726          low              low           5more              more      big   \n",
              "1727          low              low           5more              more      big   \n",
              "\n",
              "     safety decision  \n",
              "0       low    unacc  \n",
              "1       med    unacc  \n",
              "2      high    unacc  \n",
              "3       low    unacc  \n",
              "4       med    unacc  \n",
              "...     ...      ...  \n",
              "1723    med     good  \n",
              "1724   high    vgood  \n",
              "1725    low    unacc  \n",
              "1726    med     good  \n",
              "1727   high    vgood  \n",
              "\n",
              "[1728 rows x 7 columns]"
            ]
          },
          "execution_count": 210,
          "metadata": {},
          "output_type": "execute_result"
        }
      ],
      "source": [
        "df_data"
      ]
    },
    {
      "cell_type": "markdown",
      "metadata": {
        "id": "Bxl_FZLlmsYQ"
      },
      "source": [
        "## Encoding categorical values using Label Encoder"
      ]
    },
    {
      "cell_type": "code",
      "execution_count": null,
      "metadata": {
        "id": "TPHRkOnJmjxY"
      },
      "outputs": [],
      "source": [
        "from sklearn.preprocessing import LabelEncoder\n",
        "from sklearn import linear_model, preprocessing\n",
        "from sklearn.model_selection import train_test_split\n",
        "\n",
        "label_encoder = LabelEncoder()\n",
        "# label_encoder object\n",
        "label_encoder =LabelEncoder()\n",
        "# Encode labels in column.\n",
        "dff=  df_data\n",
        "dff['buying price'] = label_encoder.fit_transform(dff['buying price'])\n",
        "dff['maintenance cost'] = label_encoder.fit_transform(dff['maintenance cost'])\n",
        "dff['number of doors'] = label_encoder.fit_transform(dff['number of doors'])\n",
        "dff['number of persons'] = label_encoder.fit_transform(dff['number of persons'])\n",
        "dff['lug_boot'] = label_encoder.fit_transform(dff['lug_boot'])\n",
        "dff['safety'] = label_encoder.fit_transform(dff['safety'])\n",
        "dff['decision'] = label_encoder.fit_transform(dff['decision'])"
      ]
    },
    {
      "cell_type": "code",
      "execution_count": null,
      "metadata": {
        "colab": {
          "base_uri": "https://localhost:8080/",
          "height": 424
        },
        "id": "5AHca58GnWnn",
        "outputId": "23fdcff8-3d6f-4fb4-e9e3-786e81ffda72"
      },
      "outputs": [
        {
          "data": {
            "text/html": [
              "\n",
              "  <div id=\"df-fc869141-f906-4ceb-b000-eb1204a51d73\">\n",
              "    <div class=\"colab-df-container\">\n",
              "      <div>\n",
              "<style scoped>\n",
              "    .dataframe tbody tr th:only-of-type {\n",
              "        vertical-align: middle;\n",
              "    }\n",
              "\n",
              "    .dataframe tbody tr th {\n",
              "        vertical-align: top;\n",
              "    }\n",
              "\n",
              "    .dataframe thead th {\n",
              "        text-align: right;\n",
              "    }\n",
              "</style>\n",
              "<table border=\"1\" class=\"dataframe\">\n",
              "  <thead>\n",
              "    <tr style=\"text-align: right;\">\n",
              "      <th></th>\n",
              "      <th>buying price</th>\n",
              "      <th>maintenance cost</th>\n",
              "      <th>number of doors</th>\n",
              "      <th>number of persons</th>\n",
              "      <th>lug_boot</th>\n",
              "      <th>safety</th>\n",
              "      <th>decision</th>\n",
              "    </tr>\n",
              "  </thead>\n",
              "  <tbody>\n",
              "    <tr>\n",
              "      <th>0</th>\n",
              "      <td>3</td>\n",
              "      <td>3</td>\n",
              "      <td>0</td>\n",
              "      <td>0</td>\n",
              "      <td>2</td>\n",
              "      <td>1</td>\n",
              "      <td>2</td>\n",
              "    </tr>\n",
              "    <tr>\n",
              "      <th>1</th>\n",
              "      <td>3</td>\n",
              "      <td>3</td>\n",
              "      <td>0</td>\n",
              "      <td>0</td>\n",
              "      <td>2</td>\n",
              "      <td>2</td>\n",
              "      <td>2</td>\n",
              "    </tr>\n",
              "    <tr>\n",
              "      <th>2</th>\n",
              "      <td>3</td>\n",
              "      <td>3</td>\n",
              "      <td>0</td>\n",
              "      <td>0</td>\n",
              "      <td>2</td>\n",
              "      <td>0</td>\n",
              "      <td>2</td>\n",
              "    </tr>\n",
              "    <tr>\n",
              "      <th>3</th>\n",
              "      <td>3</td>\n",
              "      <td>3</td>\n",
              "      <td>0</td>\n",
              "      <td>0</td>\n",
              "      <td>1</td>\n",
              "      <td>1</td>\n",
              "      <td>2</td>\n",
              "    </tr>\n",
              "    <tr>\n",
              "      <th>4</th>\n",
              "      <td>3</td>\n",
              "      <td>3</td>\n",
              "      <td>0</td>\n",
              "      <td>0</td>\n",
              "      <td>1</td>\n",
              "      <td>2</td>\n",
              "      <td>2</td>\n",
              "    </tr>\n",
              "    <tr>\n",
              "      <th>...</th>\n",
              "      <td>...</td>\n",
              "      <td>...</td>\n",
              "      <td>...</td>\n",
              "      <td>...</td>\n",
              "      <td>...</td>\n",
              "      <td>...</td>\n",
              "      <td>...</td>\n",
              "    </tr>\n",
              "    <tr>\n",
              "      <th>1723</th>\n",
              "      <td>1</td>\n",
              "      <td>1</td>\n",
              "      <td>3</td>\n",
              "      <td>2</td>\n",
              "      <td>1</td>\n",
              "      <td>2</td>\n",
              "      <td>1</td>\n",
              "    </tr>\n",
              "    <tr>\n",
              "      <th>1724</th>\n",
              "      <td>1</td>\n",
              "      <td>1</td>\n",
              "      <td>3</td>\n",
              "      <td>2</td>\n",
              "      <td>1</td>\n",
              "      <td>0</td>\n",
              "      <td>3</td>\n",
              "    </tr>\n",
              "    <tr>\n",
              "      <th>1725</th>\n",
              "      <td>1</td>\n",
              "      <td>1</td>\n",
              "      <td>3</td>\n",
              "      <td>2</td>\n",
              "      <td>0</td>\n",
              "      <td>1</td>\n",
              "      <td>2</td>\n",
              "    </tr>\n",
              "    <tr>\n",
              "      <th>1726</th>\n",
              "      <td>1</td>\n",
              "      <td>1</td>\n",
              "      <td>3</td>\n",
              "      <td>2</td>\n",
              "      <td>0</td>\n",
              "      <td>2</td>\n",
              "      <td>1</td>\n",
              "    </tr>\n",
              "    <tr>\n",
              "      <th>1727</th>\n",
              "      <td>1</td>\n",
              "      <td>1</td>\n",
              "      <td>3</td>\n",
              "      <td>2</td>\n",
              "      <td>0</td>\n",
              "      <td>0</td>\n",
              "      <td>3</td>\n",
              "    </tr>\n",
              "  </tbody>\n",
              "</table>\n",
              "<p>1728 rows × 7 columns</p>\n",
              "</div>\n",
              "      <button class=\"colab-df-convert\" onclick=\"convertToInteractive('df-fc869141-f906-4ceb-b000-eb1204a51d73')\"\n",
              "              title=\"Convert this dataframe to an interactive table.\"\n",
              "              style=\"display:none;\">\n",
              "        \n",
              "  <svg xmlns=\"http://www.w3.org/2000/svg\" height=\"24px\"viewBox=\"0 0 24 24\"\n",
              "       width=\"24px\">\n",
              "    <path d=\"M0 0h24v24H0V0z\" fill=\"none\"/>\n",
              "    <path d=\"M18.56 5.44l.94 2.06.94-2.06 2.06-.94-2.06-.94-.94-2.06-.94 2.06-2.06.94zm-11 1L8.5 8.5l.94-2.06 2.06-.94-2.06-.94L8.5 2.5l-.94 2.06-2.06.94zm10 10l.94 2.06.94-2.06 2.06-.94-2.06-.94-.94-2.06-.94 2.06-2.06.94z\"/><path d=\"M17.41 7.96l-1.37-1.37c-.4-.4-.92-.59-1.43-.59-.52 0-1.04.2-1.43.59L10.3 9.45l-7.72 7.72c-.78.78-.78 2.05 0 2.83L4 21.41c.39.39.9.59 1.41.59.51 0 1.02-.2 1.41-.59l7.78-7.78 2.81-2.81c.8-.78.8-2.07 0-2.86zM5.41 20L4 18.59l7.72-7.72 1.47 1.35L5.41 20z\"/>\n",
              "  </svg>\n",
              "      </button>\n",
              "      \n",
              "  <style>\n",
              "    .colab-df-container {\n",
              "      display:flex;\n",
              "      flex-wrap:wrap;\n",
              "      gap: 12px;\n",
              "    }\n",
              "\n",
              "    .colab-df-convert {\n",
              "      background-color: #E8F0FE;\n",
              "      border: none;\n",
              "      border-radius: 50%;\n",
              "      cursor: pointer;\n",
              "      display: none;\n",
              "      fill: #1967D2;\n",
              "      height: 32px;\n",
              "      padding: 0 0 0 0;\n",
              "      width: 32px;\n",
              "    }\n",
              "\n",
              "    .colab-df-convert:hover {\n",
              "      background-color: #E2EBFA;\n",
              "      box-shadow: 0px 1px 2px rgba(60, 64, 67, 0.3), 0px 1px 3px 1px rgba(60, 64, 67, 0.15);\n",
              "      fill: #174EA6;\n",
              "    }\n",
              "\n",
              "    [theme=dark] .colab-df-convert {\n",
              "      background-color: #3B4455;\n",
              "      fill: #D2E3FC;\n",
              "    }\n",
              "\n",
              "    [theme=dark] .colab-df-convert:hover {\n",
              "      background-color: #434B5C;\n",
              "      box-shadow: 0px 1px 3px 1px rgba(0, 0, 0, 0.15);\n",
              "      filter: drop-shadow(0px 1px 2px rgba(0, 0, 0, 0.3));\n",
              "      fill: #FFFFFF;\n",
              "    }\n",
              "  </style>\n",
              "\n",
              "      <script>\n",
              "        const buttonEl =\n",
              "          document.querySelector('#df-fc869141-f906-4ceb-b000-eb1204a51d73 button.colab-df-convert');\n",
              "        buttonEl.style.display =\n",
              "          google.colab.kernel.accessAllowed ? 'block' : 'none';\n",
              "\n",
              "        async function convertToInteractive(key) {\n",
              "          const element = document.querySelector('#df-fc869141-f906-4ceb-b000-eb1204a51d73');\n",
              "          const dataTable =\n",
              "            await google.colab.kernel.invokeFunction('convertToInteractive',\n",
              "                                                     [key], {});\n",
              "          if (!dataTable) return;\n",
              "\n",
              "          const docLinkHtml = 'Like what you see? Visit the ' +\n",
              "            '<a target=\"_blank\" href=https://colab.research.google.com/notebooks/data_table.ipynb>data table notebook</a>'\n",
              "            + ' to learn more about interactive tables.';\n",
              "          element.innerHTML = '';\n",
              "          dataTable['output_type'] = 'display_data';\n",
              "          await google.colab.output.renderOutput(dataTable, element);\n",
              "          const docLink = document.createElement('div');\n",
              "          docLink.innerHTML = docLinkHtml;\n",
              "          element.appendChild(docLink);\n",
              "        }\n",
              "      </script>\n",
              "    </div>\n",
              "  </div>\n",
              "  "
            ],
            "text/plain": [
              "      buying price  maintenance cost  number of doors  number of persons  \\\n",
              "0                3                 3                0                  0   \n",
              "1                3                 3                0                  0   \n",
              "2                3                 3                0                  0   \n",
              "3                3                 3                0                  0   \n",
              "4                3                 3                0                  0   \n",
              "...            ...               ...              ...                ...   \n",
              "1723             1                 1                3                  2   \n",
              "1724             1                 1                3                  2   \n",
              "1725             1                 1                3                  2   \n",
              "1726             1                 1                3                  2   \n",
              "1727             1                 1                3                  2   \n",
              "\n",
              "      lug_boot  safety  decision  \n",
              "0            2       1         2  \n",
              "1            2       2         2  \n",
              "2            2       0         2  \n",
              "3            1       1         2  \n",
              "4            1       2         2  \n",
              "...        ...     ...       ...  \n",
              "1723         1       2         1  \n",
              "1724         1       0         3  \n",
              "1725         0       1         2  \n",
              "1726         0       2         1  \n",
              "1727         0       0         3  \n",
              "\n",
              "[1728 rows x 7 columns]"
            ]
          },
          "execution_count": 212,
          "metadata": {},
          "output_type": "execute_result"
        }
      ],
      "source": [
        "dff"
      ]
    },
    {
      "cell_type": "markdown",
      "metadata": {
        "id": "ZzO5l0ZLjIiY"
      },
      "source": [
        "## Split and shuffle the dataset"
      ]
    },
    {
      "cell_type": "code",
      "execution_count": null,
      "metadata": {
        "id": "yxiGzaPdjEUg"
      },
      "outputs": [],
      "source": [
        "Xx = dff.loc[:, dff.columns != 'decision']\n",
        "yy = dff['decision']"
      ]
    },
    {
      "cell_type": "markdown",
      "metadata": {
        "id": "69BrXschB1WH"
      },
      "source": [
        "### Split first train and remainder is test and validation set"
      ]
    },
    {
      "cell_type": "code",
      "execution_count": null,
      "metadata": {
        "id": "M0rcUZqxfL31"
      },
      "outputs": [],
      "source": [
        "x_train, x_remain, y_train, y_remain = train_test_split(Xx,yy,train_size=1000)\n"
      ]
    },
    {
      "cell_type": "markdown",
      "metadata": {
        "id": "OHxec_IvB6EX"
      },
      "source": [
        "### split the remain to test and validation\n"
      ]
    },
    {
      "cell_type": "code",
      "execution_count": null,
      "metadata": {
        "id": "OC3rVsDTB-qQ"
      },
      "outputs": [],
      "source": [
        "x_val, x_test, y_val, y_test = train_test_split(x_remain,y_remain,test_size =428)"
      ]
    },
    {
      "cell_type": "markdown",
      "metadata": {
        "id": "mHF-ds7Pl-fI"
      },
      "source": [
        "x_train, y_train <br>\n",
        "x_val, y_val <br>\n",
        "x_test, y_test <br>"
      ]
    },
    {
      "cell_type": "markdown",
      "metadata": {
        "id": "WE-ryLRWnofA"
      },
      "source": [
        "#Modeling\n",
        "##KNN Classifier\n",
        "### K = 2"
      ]
    },
    {
      "cell_type": "markdown",
      "metadata": {
        "id": "ectW6cespNCQ"
      },
      "source": [
        "We use different number of training samples to show the impact of number of training samples.\n",
        "And will use validation "
      ]
    },
    {
      "cell_type": "code",
      "execution_count": null,
      "metadata": {
        "id": "uqNkYEGQoQRI"
      },
      "outputs": [],
      "source": [
        "from sklearn.neighbors import KNeighborsClassifier"
      ]
    },
    {
      "cell_type": "markdown",
      "metadata": {
        "id": "sW9mKEjFpy0I"
      },
      "source": [
        "# Part C :\n",
        "\n",
        "\n",
        "*  ###  10%,20%,30%,40%,50%,60%,70%,80%,90% and 100% precenatge of data of the training set for 10 separate KNN classifiers and show their performance (accuracy score) on the validation set and testing set.\n",
        "*  ### Split first train, with different patrtitions, and remainder is test and validation set split the remain to test and validation\n",
        "\n",
        "\n"
      ]
    },
    {
      "cell_type": "code",
      "execution_count": null,
      "metadata": {
        "id": "ybGsnCLMooVi"
      },
      "outputs": [],
      "source": [
        "from sklearn import metrics\n",
        "import time\n",
        "\n",
        "trainlst=[]\n",
        "def split_train_by_Precentage(per):\n",
        "  x_train_, x_remain_, y_train_, y_remain_ = train_test_split(Xx,yy,train_size=int(1000*per))\n",
        "  knn = KNeighborsClassifier(n_neighbors=2)\n",
        "  start = time.time() #Start time\n",
        "  knn.fit(x_train_, y_train_)\n",
        "  end = time.time()   #End time\n",
        "  accTrain=knn.predict(x_train_)\n",
        "  print(classification_report(knn.predict(x_train_), y_train_))\n",
        "  accTrainlst=metrics.accuracy_score(y_train_, accTrain)\n",
        "  trainlst.append(accTrainlst)\n",
        "  y_pred_val = knn.predict(x_val)\n",
        "  acc_val  = metrics.accuracy_score(y_val, y_pred_val)\n",
        "  print('percentage', int(per*100), '% of the data, with k=', 2)\n",
        "  print('---------------------------')\n",
        "  print('The accuracy of the Training data: ', '{:.3f}'.format(accTrainlst*100) ,'%')\n",
        "  print('The accuracy of the validation data: ', '{:.3f}'.format(acc_val*100) ,'%')\n",
        "  y_pred_test = knn.predict(x_test)\n",
        "  acc_test = metrics.accuracy_score(y_test, y_pred_test)\n",
        "  print('The accuracy of the test data: ', '{:.3f}'.format( acc_test*100 ) , '%')\n",
        "  print('___________________________________________________________')\n",
        "  print('\\n')\n",
        "  return acc_test, acc_val"
      ]
    },
    {
      "cell_type": "markdown",
      "metadata": {
        "id": "3PSjibEj2CHZ"
      },
      "source": [
        "### 10% of training with k=2"
      ]
    },
    {
      "cell_type": "code",
      "execution_count": null,
      "metadata": {
        "colab": {
          "base_uri": "https://localhost:8080/"
        },
        "id": "uYgexK1s2AWi",
        "outputId": "4505c52f-9c26-4b9a-b185-a124cb02643a"
      },
      "outputs": [
        {
          "name": "stdout",
          "output_type": "stream",
          "text": [
            "              precision    recall  f1-score   support\n",
            "\n",
            "           0       1.00      0.62      0.77        40\n",
            "           1       1.00      1.00      1.00         1\n",
            "           2       0.80      1.00      0.89        55\n",
            "           3       0.80      1.00      0.89         4\n",
            "\n",
            "    accuracy                           0.85       100\n",
            "   macro avg       0.90      0.91      0.89       100\n",
            "weighted avg       0.88      0.85      0.84       100\n",
            "\n",
            "percentage 10 % of the data, with k= 2\n",
            "---------------------------\n",
            "The accuracy of the Training data:  85.000 %\n",
            "The accuracy of the validation data:  63.000 %\n",
            "The accuracy of the test data:  63.318 %\n",
            "___________________________________________________________\n",
            "\n",
            "\n"
          ]
        }
      ],
      "source": [
        "a1, v1 = split_train_by_Precentage(.1)"
      ]
    },
    {
      "cell_type": "markdown",
      "metadata": {
        "id": "cCgv8l-m2LTl"
      },
      "source": [
        "### 20% of training with k=2\n"
      ]
    },
    {
      "cell_type": "code",
      "execution_count": null,
      "metadata": {
        "colab": {
          "base_uri": "https://localhost:8080/"
        },
        "id": "B5WbS04m2LkR",
        "outputId": "380a5a8a-a486-4fd3-e72d-51fb4da30c29"
      },
      "outputs": [
        {
          "name": "stdout",
          "output_type": "stream",
          "text": [
            "              precision    recall  f1-score   support\n",
            "\n",
            "           0       1.00      0.68      0.81        68\n",
            "           1       0.80      0.57      0.67         7\n",
            "           2       0.87      1.00      0.93       121\n",
            "           3       0.40      1.00      0.57         4\n",
            "\n",
            "    accuracy                           0.88       200\n",
            "   macro avg       0.77      0.81      0.74       200\n",
            "weighted avg       0.90      0.88      0.87       200\n",
            "\n",
            "percentage 20 % of the data, with k= 2\n",
            "---------------------------\n",
            "The accuracy of the Training data:  87.500 %\n",
            "The accuracy of the validation data:  73.333 %\n",
            "The accuracy of the test data:  71.262 %\n",
            "___________________________________________________________\n",
            "\n",
            "\n"
          ]
        }
      ],
      "source": [
        "a2, v2 = split_train_by_Precentage(.2)"
      ]
    },
    {
      "cell_type": "markdown",
      "metadata": {
        "id": "dChA3n2H2L4C"
      },
      "source": [
        "###  30% of training with k=2\n"
      ]
    },
    {
      "cell_type": "code",
      "execution_count": null,
      "metadata": {
        "colab": {
          "base_uri": "https://localhost:8080/"
        },
        "id": "svhdzdDY2MUe",
        "outputId": "a475a0ab-6886-4ece-e905-6fec89f111d2"
      },
      "outputs": [
        {
          "name": "stdout",
          "output_type": "stream",
          "text": [
            "              precision    recall  f1-score   support\n",
            "\n",
            "           0       1.00      0.67      0.81        95\n",
            "           1       0.77      0.77      0.77        13\n",
            "           2       0.85      0.98      0.91       181\n",
            "           3       0.79      1.00      0.88        11\n",
            "\n",
            "    accuracy                           0.88       300\n",
            "   macro avg       0.85      0.86      0.84       300\n",
            "weighted avg       0.89      0.88      0.87       300\n",
            "\n",
            "percentage 30 % of the data, with k= 2\n",
            "---------------------------\n",
            "The accuracy of the Training data:  87.667 %\n",
            "The accuracy of the validation data:  70.667 %\n",
            "The accuracy of the test data:  72.430 %\n",
            "___________________________________________________________\n",
            "\n",
            "\n"
          ]
        }
      ],
      "source": [
        "a3, v3 = split_train_by_Precentage(.3)"
      ]
    },
    {
      "cell_type": "markdown",
      "metadata": {
        "id": "In92QWr62Mnt"
      },
      "source": [
        "### 40% of training with k=2"
      ]
    },
    {
      "cell_type": "code",
      "execution_count": null,
      "metadata": {
        "colab": {
          "base_uri": "https://localhost:8080/"
        },
        "id": "HOumB7r02M24",
        "outputId": "892bcbd7-85cf-413a-af1b-4dc71c247c8e"
      },
      "outputs": [
        {
          "name": "stdout",
          "output_type": "stream",
          "text": [
            "              precision    recall  f1-score   support\n",
            "\n",
            "           0       1.00      0.69      0.82       130\n",
            "           1       0.69      0.61      0.65        18\n",
            "           2       0.86      0.99      0.92       244\n",
            "           3       0.67      1.00      0.80         8\n",
            "\n",
            "    accuracy                           0.88       400\n",
            "   macro avg       0.80      0.82      0.80       400\n",
            "weighted avg       0.89      0.88      0.87       400\n",
            "\n",
            "percentage 40 % of the data, with k= 2\n",
            "---------------------------\n",
            "The accuracy of the Training data:  87.750 %\n",
            "The accuracy of the validation data:  73.333 %\n",
            "The accuracy of the test data:  74.766 %\n",
            "___________________________________________________________\n",
            "\n",
            "\n"
          ]
        }
      ],
      "source": [
        "a4, v4 = split_train_by_Precentage(.4)"
      ]
    },
    {
      "cell_type": "markdown",
      "metadata": {
        "id": "B9co881l2NIv"
      },
      "source": [
        "### 50% of training with k=2"
      ]
    },
    {
      "cell_type": "code",
      "execution_count": null,
      "metadata": {
        "colab": {
          "base_uri": "https://localhost:8080/"
        },
        "id": "cOXxu9ML2NdH",
        "outputId": "6b8994db-8ee7-4ece-b70a-7e5242275ce0"
      },
      "outputs": [
        {
          "name": "stdout",
          "output_type": "stream",
          "text": [
            "              precision    recall  f1-score   support\n",
            "\n",
            "           0       1.00      0.71      0.83       150\n",
            "           1       0.74      0.70      0.72        20\n",
            "           2       0.89      0.99      0.94       319\n",
            "           3       0.50      1.00      0.67        11\n",
            "\n",
            "    accuracy                           0.89       500\n",
            "   macro avg       0.78      0.85      0.79       500\n",
            "weighted avg       0.91      0.89      0.89       500\n",
            "\n",
            "percentage 50 % of the data, with k= 2\n",
            "---------------------------\n",
            "The accuracy of the Training data:  89.200 %\n",
            "The accuracy of the validation data:  77.667 %\n",
            "The accuracy of the test data:  78.037 %\n",
            "___________________________________________________________\n",
            "\n",
            "\n"
          ]
        }
      ],
      "source": [
        "a5, v5 = split_train_by_Precentage(.5)"
      ]
    },
    {
      "cell_type": "markdown",
      "metadata": {
        "id": "UI1hv98n2NwG"
      },
      "source": [
        "### 60% of training with k=2\n"
      ]
    },
    {
      "cell_type": "code",
      "execution_count": null,
      "metadata": {
        "colab": {
          "base_uri": "https://localhost:8080/"
        },
        "id": "U_hVSBu72OAn",
        "outputId": "dc723cbf-79d7-45d8-c6e2-5676f0e19fc8"
      },
      "outputs": [
        {
          "name": "stdout",
          "output_type": "stream",
          "text": [
            "              precision    recall  f1-score   support\n",
            "\n",
            "           0       1.00      0.73      0.84       198\n",
            "           1       0.80      0.73      0.76        22\n",
            "           2       0.88      0.99      0.93       367\n",
            "           3       0.54      1.00      0.70        13\n",
            "\n",
            "    accuracy                           0.90       600\n",
            "   macro avg       0.81      0.86      0.81       600\n",
            "weighted avg       0.91      0.90      0.89       600\n",
            "\n",
            "percentage 60 % of the data, with k= 2\n",
            "---------------------------\n",
            "The accuracy of the Training data:  89.500 %\n",
            "The accuracy of the validation data:  77.000 %\n",
            "The accuracy of the test data:  77.804 %\n",
            "___________________________________________________________\n",
            "\n",
            "\n"
          ]
        }
      ],
      "source": [
        "a6, v6 = split_train_by_Precentage(.6)"
      ]
    },
    {
      "cell_type": "markdown",
      "metadata": {
        "id": "NfPYddVG2OTr"
      },
      "source": [
        "### 70% of training with k=2"
      ]
    },
    {
      "cell_type": "code",
      "execution_count": null,
      "metadata": {
        "colab": {
          "base_uri": "https://localhost:8080/"
        },
        "id": "QNc8kl0o2Oku",
        "outputId": "4eeafdbd-c4b8-4c26-8c9a-9702c21a6a55"
      },
      "outputs": [
        {
          "name": "stdout",
          "output_type": "stream",
          "text": [
            "              precision    recall  f1-score   support\n",
            "\n",
            "           0       1.00      0.67      0.80       227\n",
            "           1       0.44      0.69      0.54        16\n",
            "           2       0.88      0.99      0.93       439\n",
            "           3       0.64      1.00      0.78        18\n",
            "\n",
            "    accuracy                           0.88       700\n",
            "   macro avg       0.74      0.84      0.76       700\n",
            "weighted avg       0.90      0.88      0.88       700\n",
            "\n",
            "percentage 70 % of the data, with k= 2\n",
            "---------------------------\n",
            "The accuracy of the Training data:  88.000 %\n",
            "The accuracy of the validation data:  79.333 %\n",
            "The accuracy of the test data:  78.505 %\n",
            "___________________________________________________________\n",
            "\n",
            "\n"
          ]
        }
      ],
      "source": [
        "a7, v7 = split_train_by_Precentage(.7)"
      ]
    },
    {
      "cell_type": "markdown",
      "metadata": {
        "id": "tVuk87gg2O2-"
      },
      "source": [
        "### 80% of training with k=2"
      ]
    },
    {
      "cell_type": "code",
      "execution_count": null,
      "metadata": {
        "colab": {
          "base_uri": "https://localhost:8080/"
        },
        "id": "9BPgqPFH2PHP",
        "outputId": "1324dae0-52b0-4c04-9e92-1399b796087c"
      },
      "outputs": [
        {
          "name": "stdout",
          "output_type": "stream",
          "text": [
            "              precision    recall  f1-score   support\n",
            "\n",
            "           0       1.00      0.74      0.85       235\n",
            "           1       0.83      0.68      0.75        44\n",
            "           2       0.89      0.98      0.94       510\n",
            "           3       0.39      1.00      0.56        11\n",
            "\n",
            "    accuracy                           0.90       800\n",
            "   macro avg       0.78      0.85      0.78       800\n",
            "weighted avg       0.91      0.90      0.90       800\n",
            "\n",
            "percentage 80 % of the data, with k= 2\n",
            "---------------------------\n",
            "The accuracy of the Training data:  89.625 %\n",
            "The accuracy of the validation data:  78.667 %\n",
            "The accuracy of the test data:  80.374 %\n",
            "___________________________________________________________\n",
            "\n",
            "\n"
          ]
        }
      ],
      "source": [
        "a8, v8 = split_train_by_Precentage(.8)"
      ]
    },
    {
      "cell_type": "markdown",
      "metadata": {
        "id": "FfC7McPw3lX-"
      },
      "source": [
        "### 90% of training with k=2"
      ]
    },
    {
      "cell_type": "code",
      "execution_count": null,
      "metadata": {
        "colab": {
          "base_uri": "https://localhost:8080/"
        },
        "id": "4QqKNyNy3lnA",
        "outputId": "069b0374-ae9d-4532-a40d-2c09c3492abf"
      },
      "outputs": [
        {
          "name": "stdout",
          "output_type": "stream",
          "text": [
            "              precision    recall  f1-score   support\n",
            "\n",
            "           0       1.00      0.72      0.84       298\n",
            "           1       0.61      0.76      0.68        33\n",
            "           2       0.89      0.99      0.94       553\n",
            "           3       0.53      1.00      0.70        16\n",
            "\n",
            "    accuracy                           0.89       900\n",
            "   macro avg       0.76      0.87      0.79       900\n",
            "weighted avg       0.91      0.89      0.89       900\n",
            "\n",
            "percentage 90 % of the data, with k= 2\n",
            "---------------------------\n",
            "The accuracy of the Training data:  89.111 %\n",
            "The accuracy of the validation data:  81.667 %\n",
            "The accuracy of the test data:  82.477 %\n",
            "___________________________________________________________\n",
            "\n",
            "\n"
          ]
        }
      ],
      "source": [
        "a9, v9 = split_train_by_Precentage(.9)"
      ]
    },
    {
      "cell_type": "markdown",
      "metadata": {
        "id": "e23_FGaeBJER"
      },
      "source": [
        "### 100% of training with k=2\n"
      ]
    },
    {
      "cell_type": "code",
      "execution_count": null,
      "metadata": {
        "colab": {
          "base_uri": "https://localhost:8080/"
        },
        "id": "QrRa7vANBZxA",
        "outputId": "794e62f6-eeaa-4583-fd6d-cc5ba4f7199f"
      },
      "outputs": [
        {
          "name": "stdout",
          "output_type": "stream",
          "text": [
            "              precision    recall  f1-score   support\n",
            "\n",
            "           0       1.00      0.71      0.83       299\n",
            "           1       0.80      0.85      0.82        41\n",
            "           2       0.89      0.99      0.94       635\n",
            "           3       0.62      1.00      0.77        25\n",
            "\n",
            "    accuracy                           0.90      1000\n",
            "   macro avg       0.83      0.89      0.84      1000\n",
            "weighted avg       0.91      0.90      0.90      1000\n",
            "\n",
            "percentage 100 % of the data, with k= 2\n",
            "---------------------------\n",
            "The accuracy of the Training data:  90.000 %\n",
            "The accuracy of the validation data:  83.667 %\n",
            "The accuracy of the test data:  82.710 %\n",
            "___________________________________________________________\n",
            "\n",
            "\n"
          ]
        }
      ],
      "source": [
        "a10, v10 = split_train_by_Precentage(1)"
      ]
    },
    {
      "cell_type": "markdown",
      "metadata": {
        "id": "R--egKIeTLzq"
      },
      "source": [
        "\n",
        "The highest accuracy the model makes when it uses 80% of the training data, this with fixed number of k= 2"
      ]
    },
    {
      "cell_type": "code",
      "execution_count": null,
      "metadata": {
        "id": "FItA35gUQrQ6"
      },
      "outputs": [],
      "source": [
        "arr = [a1,a2,a3,a4,a5,a6,a7,a8,a9,a10]\n",
        "vrr = [v1,v2,v3,v4,v5,v6,v7,v8,v9,v10]\n",
        "p =   [10,20,30,40,50,60,70,80,90,100]"
      ]
    },
    {
      "cell_type": "code",
      "execution_count": null,
      "metadata": {
        "colab": {
          "base_uri": "https://localhost:8080/",
          "height": 410
        },
        "id": "-2QHrIzCXd0D",
        "outputId": "d56b4b0a-ac95-4b44-f8c1-61d865877c59"
      },
      "outputs": [
        {
          "data": {
            "image/png": "[encoded data removed]",
            "text/plain": [
              "<Figure size 432x432 with 1 Axes>"
            ]
          },
          "metadata": {},
          "output_type": "display_data"
        }
      ],
      "source": [
        "import matplotlib.pyplot as plt\n",
        "\n",
        "# plotting the line 2 points \n",
        "plt.plot(p,arr,  label = \"Testing set\", markersize=10)\n",
        "plt.plot(p,vrr,  label = \"Valadation set\", markersize=10)\n",
        "plt.xlabel('Percentage of the Training set')\n",
        "# Set the y axis label of the current axis.\n",
        "plt.ylabel('Accuracy Score')\n",
        "# Set a title of the current axes.\n",
        "plt.title('Precentage of Testing and Valadation Accuracy score')\n",
        "# show a legend on the plot\n",
        "plt.legend()\n",
        "# Display a figure.\n",
        "plt.show()"
      ]
    },
    {
      "cell_type": "code",
      "execution_count": null,
      "metadata": {
        "id": "YPVPNPt6ILgY"
      },
      "outputs": [],
      "source": [
        "import matplotlib.pyplot as plt\n",
        "def plot(lst,p):\n",
        "  # plotting the line 2 points \n",
        "  plt.plot(p,lst,  label = \"Training set\", markersize=10)\n",
        "  plt.xlabel('Percentage of the Training set')\n",
        "  # Set the y axis label of the current axis.\n",
        "  plt.ylabel('Accuracy Score')\n",
        "  # Set a title of the current axes.\n",
        "  plt.title('Time of Training Dataset')\n",
        "  # show a legend on the plot\n",
        "  plt.legend()\n",
        "  # Display a figure.\n",
        "  plt.show()"
      ]
    },
    {
      "cell_type": "code",
      "execution_count": null,
      "metadata": {
        "colab": {
          "base_uri": "https://localhost:8080/",
          "height": 410
        },
        "id": "FXpMzs8DMj23",
        "outputId": "1139311d-4365-41d3-d6b9-6f4febdece11"
      },
      "outputs": [
        {
          "data": {
            "image/png": "[encoded data removed]",
            "text/plain": [
              "<Figure size 432x432 with 1 Axes>"
            ]
          },
          "metadata": {},
          "output_type": "display_data"
        }
      ],
      "source": [
        "plot(trainlst,p)"
      ]
    },
    {
      "cell_type": "markdown",
      "metadata": {
        "id": "SH28e0-GS8q_"
      },
      "source": [
        "The curve shows that the accuracy of the test and validation varies by using different samples of the training data."
      ]
    },
    {
      "cell_type": "markdown",
      "metadata": {
        "id": "GlBnBzZflhAf"
      },
      "source": [
        "##100% of training samples, with different k values"
      ]
    },
    {
      "cell_type": "code",
      "execution_count": null,
      "metadata": {
        "id": "zVjXwCTAYl2U"
      },
      "outputs": [],
      "source": [
        "x_train, x_remain, y_train, y_remain = train_test_split(Xx,yy,train_size= 1000)\n",
        "x_val, x_test, y_val, y_test = train_test_split(x_remain,y_remain,train_size = 300,test_size =428)"
      ]
    },
    {
      "cell_type": "code",
      "execution_count": null,
      "metadata": {
        "colab": {
          "base_uri": "https://localhost:8080/",
          "height": 427
        },
        "id": "1QjWR7EioEE-",
        "outputId": "3240dd18-b99a-4303-bd51-eec50a21cfba"
      },
      "outputs": [
        {
          "name": "stdout",
          "output_type": "stream",
          "text": [
            "Maximum accuracy: 89.667% at K = 6\n"
          ]
        },
        {
          "data": {
            "image/png": "[encoded data removed]",
            "text/plain": [
              "<Figure size 720x432 with 1 Axes>"
            ]
          },
          "metadata": {},
          "output_type": "display_data"
        }
      ],
      "source": [
        "acc = []\n",
        "from sklearn import metrics\n",
        "for i in range(1,11):\n",
        "    Knn_model = KNeighborsClassifier(n_neighbors = i).fit(x_train,y_train)\n",
        "    prediction = Knn_model.predict(x_val)\n",
        "    acc.append(metrics.accuracy_score(y_val, prediction))\n",
        "    \n",
        "plt.figure(figsize=(10,6))\n",
        "plt.plot(range(1,11),acc,color = 'blue',linestyle='dashed', marker='o',markerfacecolor='red', markersize=10)\n",
        "plt.title('Accuracy vs. K Value')\n",
        "plt.xlabel('Value of K')\n",
        "plt.ylabel('Accuracy')\n",
        "print(\"Maximum accuracy:\",'{:.3f}%'.format(max(acc)*100),\"at K =\",acc.index(max(acc))+1)"
      ]
    },
    {
      "cell_type": "markdown",
      "metadata": {
        "id": "bwbqCuY_S5M4"
      },
      "source": [
        "By using different values of k, varies from 1 to 10, and the full training samples, we found out that the highest accuarcy is when using k=5 ."
      ]
    },
    {
      "cell_type": "code",
      "execution_count": null,
      "metadata": {
        "colab": {
          "base_uri": "https://localhost:8080/"
        },
        "id": "4KckKnJ6wfnw",
        "outputId": "50be049b-619f-4460-c0c1-86dfcc27b139"
      },
      "outputs": [
        {
          "data": {
            "text/plain": [
              "(1000, 6)"
            ]
          },
          "execution_count": 233,
          "metadata": {},
          "output_type": "execute_result"
        }
      ],
      "source": [
        "x_train.shape"
      ]
    },
    {
      "cell_type": "markdown",
      "metadata": {
        "id": "XB903BDMdxXW"
      },
      "source": [
        "### KNN function that takes Percenatge and number of K.\n"
      ]
    },
    {
      "cell_type": "code",
      "execution_count": null,
      "metadata": {
        "id": "_yOBxXCLR5I7"
      },
      "outputs": [],
      "source": [
        "\n",
        "def Best_ValueOf_K(per, k):\n",
        "  x_train_, x_remain_, y_train_, y_remain_ = train_test_split(Xx,yy,train_size=int(1000*per))\n",
        "  #x_val_, x_test_, y_val_, y_test_ = train_test_split(x_remain_,y_remain_,train_size = 300,test_size =428)\n",
        "  knn = KNeighborsClassifier(n_neighbors=k)\n",
        "\n",
        "  start_tr = time.time() #Start time for predict train data\n",
        "  knn.fit(x_train_, y_train_)\n",
        "  end_tr = time.time()   #End time for predict train data\n",
        "  tr = end_tr-start_tr \n",
        "  y_pred_train = knn.predict(x_train_)\n",
        "  acc_train  = metrics.accuracy_score(y_train_, y_pred_train)\n",
        "  \n",
        "  y_pred_val = knn.predict(x_val)\n",
        "  acc_val  = metrics.accuracy_score(y_val, y_pred_val)\n",
        "  print('percentage', int(per*100), '% of the data, with k=', k)\n",
        "  print('---------------------------')\n",
        "  print('The accuracy of the Training data: ', '{:.3f}'.format(acc_train*100), '%')\n",
        "  print('The accuracy of the validation data: ', '{:.3f}'.format(acc_val*100), '%')\n",
        "\n",
        "  start_te = time.time() #Start time for predict test data\n",
        "  y_pred_test = knn.predict(x_test)\n",
        "  end_te = time.time()   #End time for predict test data\n",
        "  te = end_te-start_te\n",
        "\n",
        "  acc_test = metrics.accuracy_score(y_test, y_pred_test)\n",
        "  print('The accuracy of the test data: ', '{:.3f}'.format( acc_test*100), '%')\n",
        "  \n",
        "  print('*********************************')\n",
        "  print('Training time ',  '{:.3f}'.format( tr))\n",
        "  print('Testing time', '{:.3f}'.format( te))\n",
        "  print('___________________________________________________________')\n",
        "  print('\\n')\n",
        "  return acc_test, acc_val, tr, te"
      ]
    },
    {
      "cell_type": "markdown",
      "metadata": {
        "id": "9ThyP0pMXZC2"
      },
      "source": [
        "### 10% of the whole training set and K = 2"
      ]
    },
    {
      "cell_type": "code",
      "execution_count": null,
      "metadata": {
        "colab": {
          "base_uri": "https://localhost:8080/"
        },
        "id": "g2O4cguOXYUm",
        "outputId": "828d2db4-5417-42bf-b100-c77eb6e03f32"
      },
      "outputs": [
        {
          "name": "stdout",
          "output_type": "stream",
          "text": [
            "percentage 10 % of the data, with k= 2\n",
            "---------------------------\n",
            "The accuracy of the Training data:  83.000 %\n",
            "The accuracy of the validation data:  63.333 %\n",
            "The accuracy of the test data:  66.822 %\n",
            "*********************************\n",
            "Training time  0.006\n",
            "Testing time 0.031\n",
            "___________________________________________________________\n",
            "\n",
            "\n"
          ]
        }
      ],
      "source": [
        "ac1, va1, ti_tr1, ti_te1 = Best_ValueOf_K(.1, 2)"
      ]
    },
    {
      "cell_type": "markdown",
      "metadata": {
        "id": "m1BTG3fgXihr"
      },
      "source": [
        "###100% of the whole training set and K = 2\n"
      ]
    },
    {
      "cell_type": "code",
      "execution_count": null,
      "metadata": {
        "colab": {
          "base_uri": "https://localhost:8080/"
        },
        "id": "YzXHxPkPXnYo",
        "outputId": "245e54f8-f456-48af-9b65-5be139cab2fc"
      },
      "outputs": [
        {
          "name": "stdout",
          "output_type": "stream",
          "text": [
            "percentage 100 % of the data, with k= 2\n",
            "---------------------------\n",
            "The accuracy of the Training data:  89.600 %\n",
            "The accuracy of the validation data:  83.000 %\n",
            "The accuracy of the test data:  84.112 %\n",
            "*********************************\n",
            "Training time  0.011\n",
            "Testing time 0.039\n",
            "___________________________________________________________\n",
            "\n",
            "\n"
          ]
        }
      ],
      "source": [
        "ac2, va2, ti_tr2, ti_te2 = Best_ValueOf_K(1, 2)"
      ]
    },
    {
      "cell_type": "markdown",
      "metadata": {
        "id": "D-3RRU2RXqiB"
      },
      "source": [
        "###10% of the whole training set and K = 10\n"
      ]
    },
    {
      "cell_type": "code",
      "execution_count": null,
      "metadata": {
        "colab": {
          "base_uri": "https://localhost:8080/"
        },
        "id": "kGop2bBQX561",
        "outputId": "c969f905-22f8-484a-e557-aecb67091a89"
      },
      "outputs": [
        {
          "name": "stdout",
          "output_type": "stream",
          "text": [
            "percentage 10 % of the data, with k= 10\n",
            "---------------------------\n",
            "The accuracy of the Training data:  74.000 %\n",
            "The accuracy of the validation data:  67.000 %\n",
            "The accuracy of the test data:  72.430 %\n",
            "*********************************\n",
            "Training time  0.006\n",
            "Testing time 0.020\n",
            "___________________________________________________________\n",
            "\n",
            "\n"
          ]
        }
      ],
      "source": [
        "ac3, va3, ti_tr3, ti_te3 = Best_ValueOf_K(.1, 10)"
      ]
    },
    {
      "cell_type": "markdown",
      "metadata": {
        "id": "MISyM0S7Xy4H"
      },
      "source": [
        "### 100% of the whole training set and K = 10\n"
      ]
    },
    {
      "cell_type": "code",
      "execution_count": null,
      "metadata": {
        "colab": {
          "base_uri": "https://localhost:8080/"
        },
        "id": "Y-QLEfnsX98E",
        "outputId": "fc8aa95a-e124-4e74-8649-ff0e1536ebb0"
      },
      "outputs": [
        {
          "name": "stdout",
          "output_type": "stream",
          "text": [
            "percentage 100 % of the data, with k= 10\n",
            "---------------------------\n",
            "The accuracy of the Training data:  90.700 %\n",
            "The accuracy of the validation data:  87.667 %\n",
            "The accuracy of the test data:  89.720 %\n",
            "*********************************\n",
            "Training time  0.007\n",
            "Testing time 0.031\n",
            "___________________________________________________________\n",
            "\n",
            "\n"
          ]
        }
      ],
      "source": [
        "ac4, va4, ti_tr4, ti_te4 =  Best_ValueOf_K(1, 10)"
      ]
    },
    {
      "cell_type": "code",
      "execution_count": null,
      "metadata": {
        "id": "W2Nf71gqM8A1"
      },
      "outputs": [],
      "source": [
        "ttime = [ti_tr1, ti_tr2, ti_tr3,ti_tr3] #time of test prediction\n",
        "label = ['10%, k=2','100%, k=2','10%, k=10','100%, k=10'] #Cases"
      ]
    },
    {
      "cell_type": "code",
      "execution_count": null,
      "metadata": {
        "colab": {
          "base_uri": "https://localhost:8080/",
          "height": 410
        },
        "id": "xiK3LPyGNPwl",
        "outputId": "fba735e7-31c7-4bef-de4c-ba522fbf91ce"
      },
      "outputs": [
        {
          "data": {
            "image/png": "[encoded data removed]",
            "text/plain": [
              "<Figure size 432x432 with 1 Axes>"
            ]
          },
          "metadata": {},
          "output_type": "display_data"
        }
      ],
      "source": [
        "plot(ttime,label)"
      ]
    },
    {
      "cell_type": "markdown",
      "metadata": {
        "id": "HNul3pvvlnnc"
      },
      "source": [
        "## Make list append time of Training"
      ]
    },
    {
      "cell_type": "code",
      "execution_count": null,
      "metadata": {
        "colab": {
          "base_uri": "https://localhost:8080/",
          "height": 427
        },
        "id": "Y6v9XOy9ln3h",
        "outputId": "735d2032-8a78-4317-a4d3-e72e0223a3ab"
      },
      "outputs": [
        {
          "data": {
            "text/plain": [
              "Text(0.5, 1.0, 'Partitions and Ks vs time of Training')"
            ]
          },
          "execution_count": 239,
          "metadata": {},
          "output_type": "execute_result"
        },
        {
          "data": {
            "image/png": "[encoded data removed]",
            "text/plain": [
              "<Figure size 432x432 with 1 Axes>"
            ]
          },
          "metadata": {},
          "output_type": "display_data"
        }
      ],
      "source": [
        "ax = sns.barplot(x=label, y=ttime)\n",
        "plt.xlabel('Cases')\n",
        "plt.ylabel('Time in seconds')\n",
        "plt.title('Partitions and Ks vs time of Training')"
      ]
    },
    {
      "cell_type": "markdown",
      "metadata": {
        "id": "E-Qn9Pf1YGCE"
      },
      "source": [
        "## Make list append time of test **prediction**"
      ]
    },
    {
      "cell_type": "code",
      "execution_count": null,
      "metadata": {
        "id": "rV4NToeL0_1C"
      },
      "outputs": [],
      "source": [
        "test_time = [ti_te1, ti_te2, ti_te3,ti_te3] #time of test prediction\n",
        "label = ['10%, k=2','100%, k=2','10%, k=10','100%, k=10'] #Cases"
      ]
    },
    {
      "cell_type": "markdown",
      "metadata": {
        "id": "_BgpeTIukc3p"
      },
      "source": [
        "### **Plot** the prediction time on the testing set."
      ]
    },
    {
      "cell_type": "code",
      "execution_count": null,
      "metadata": {
        "colab": {
          "base_uri": "https://localhost:8080/",
          "height": 427
        },
        "id": "BzVw7tw0jZ1i",
        "outputId": "d9755849-dd4b-4fcb-d23b-241f4a6fefa4"
      },
      "outputs": [
        {
          "data": {
            "text/plain": [
              "Text(0.5, 1.0, 'Partitions and Ks vs time of Test Prediction')"
            ]
          },
          "execution_count": 241,
          "metadata": {},
          "output_type": "execute_result"
        },
        {
          "data": {
            "image/png": "[encoded data removed]",
            "text/plain": [
              "<Figure size 432x432 with 1 Axes>"
            ]
          },
          "metadata": {},
          "output_type": "display_data"
        }
      ],
      "source": [
        "ax = sns.barplot(x=label, y=test_time)\n",
        "plt.xlabel('Cases')\n",
        "plt.ylabel('Time in seconds')\n",
        "plt.title('Partitions and Ks vs time of Test Prediction')"
      ]
    },
    {
      "cell_type": "code",
      "execution_count": null,
      "metadata": {
        "id": "4zGlLKKhHZ0i"
      },
      "outputs": [],
      "source": []
    }
  ],
  "metadata": {
    "colab": {
      "collapsed_sections": [],
      "include_colab_link": true,
      "name": "Applied Machine Learning Assignment 2.ipynb",
      "provenance": []
    },
    "kernelspec": {
      "display_name": "Python 3",
      "name": "python3"
    },
    "language_info": {
      "name": "python"
    }
  },
  "nbformat": 4,
  "nbformat_minor": 0
}
